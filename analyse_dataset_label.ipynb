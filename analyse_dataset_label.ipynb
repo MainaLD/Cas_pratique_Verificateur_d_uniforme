{
 "cells": [
  {
   "cell_type": "code",
   "execution_count": 1,
   "metadata": {},
   "outputs": [],
   "source": [
    "import pandas as pd\n",
    "import numpy as np\n",
    "import os\n",
    "from os.path import join, exists\n",
    "from tqdm import tqdm\n",
    "import warnings\n",
    "warnings.filterwarnings('ignore')"
   ]
  },
  {
   "cell_type": "markdown",
   "metadata": {},
   "source": [
    "## Analyse du dataset d'origine"
   ]
  },
  {
   "cell_type": "code",
   "execution_count": 9,
   "metadata": {},
   "outputs": [],
   "source": [
    "path_train_ori = \"C:/Users/Utilisateur/Documents/mld/5_Projets/CAS_PRATIQUE_Verificateur_Uniforme/Dataset/Yolo_Format/labels/train\"\n",
    "path_val_ori = \"C:/Users/Utilisateur/Documents/mld/5_Projets/CAS_PRATIQUE_Verificateur_Uniforme/Dataset/Yolo_Format/labels/val/\""
   ]
  },
  {
   "cell_type": "code",
   "execution_count": 8,
   "metadata": {},
   "outputs": [
    {
     "data": {
      "text/html": [
       "<div>\n",
       "<style scoped>\n",
       "    .dataframe tbody tr th:only-of-type {\n",
       "        vertical-align: middle;\n",
       "    }\n",
       "\n",
       "    .dataframe tbody tr th {\n",
       "        vertical-align: top;\n",
       "    }\n",
       "\n",
       "    .dataframe thead th {\n",
       "        text-align: right;\n",
       "    }\n",
       "</style>\n",
       "<table border=\"1\" class=\"dataframe\">\n",
       "  <thead>\n",
       "    <tr style=\"text-align: right;\">\n",
       "      <th></th>\n",
       "      <th>0</th>\n",
       "      <th>1</th>\n",
       "      <th>2</th>\n",
       "      <th>3</th>\n",
       "      <th>4</th>\n",
       "    </tr>\n",
       "  </thead>\n",
       "  <tbody>\n",
       "  </tbody>\n",
       "</table>\n",
       "</div>"
      ],
      "text/plain": [
       "Empty DataFrame\n",
       "Columns: [0, 1, 2, 3, 4]\n",
       "Index: []"
      ]
     },
     "execution_count": 8,
     "metadata": {},
     "output_type": "execute_result"
    }
   ],
   "source": [
    "bibliotheque = pd.DataFrame(columns=range(0, 5))\n",
    "bibliotheque"
   ]
  },
  {
   "cell_type": "code",
   "execution_count": 30,
   "metadata": {},
   "outputs": [
    {
     "data": {
      "text/html": [
       "<div>\n",
       "<style scoped>\n",
       "    .dataframe tbody tr th:only-of-type {\n",
       "        vertical-align: middle;\n",
       "    }\n",
       "\n",
       "    .dataframe tbody tr th {\n",
       "        vertical-align: top;\n",
       "    }\n",
       "\n",
       "    .dataframe thead th {\n",
       "        text-align: right;\n",
       "    }\n",
       "</style>\n",
       "<table border=\"1\" class=\"dataframe\">\n",
       "  <thead>\n",
       "    <tr style=\"text-align: right;\">\n",
       "      <th></th>\n",
       "      <th>1</th>\n",
       "      <th>2</th>\n",
       "      <th>3</th>\n",
       "      <th>4</th>\n",
       "      <th>0</th>\n",
       "    </tr>\n",
       "  </thead>\n",
       "  <tbody>\n",
       "    <tr>\n",
       "      <th>0</th>\n",
       "      <td>0.414794</td>\n",
       "      <td>0.342500</td>\n",
       "      <td>0.181648</td>\n",
       "      <td>0.155000</td>\n",
       "      <td>0.0</td>\n",
       "    </tr>\n",
       "    <tr>\n",
       "      <th>1</th>\n",
       "      <td>0.430712</td>\n",
       "      <td>0.544375</td>\n",
       "      <td>0.434457</td>\n",
       "      <td>0.233750</td>\n",
       "      <td>2.0</td>\n",
       "    </tr>\n",
       "    <tr>\n",
       "      <th>2</th>\n",
       "      <td>0.646510</td>\n",
       "      <td>0.262071</td>\n",
       "      <td>0.132305</td>\n",
       "      <td>0.247982</td>\n",
       "      <td>0.0</td>\n",
       "    </tr>\n",
       "    <tr>\n",
       "      <th>3</th>\n",
       "      <td>0.254870</td>\n",
       "      <td>0.674928</td>\n",
       "      <td>0.186688</td>\n",
       "      <td>0.467815</td>\n",
       "      <td>2.0</td>\n",
       "    </tr>\n",
       "    <tr>\n",
       "      <th>4</th>\n",
       "      <td>0.641234</td>\n",
       "      <td>0.599193</td>\n",
       "      <td>0.217532</td>\n",
       "      <td>0.407495</td>\n",
       "      <td>2.0</td>\n",
       "    </tr>\n",
       "    <tr>\n",
       "      <th>...</th>\n",
       "      <td>...</td>\n",
       "      <td>...</td>\n",
       "      <td>...</td>\n",
       "      <td>...</td>\n",
       "      <td>...</td>\n",
       "    </tr>\n",
       "    <tr>\n",
       "      <th>62</th>\n",
       "      <td>0.919344</td>\n",
       "      <td>0.558125</td>\n",
       "      <td>0.068227</td>\n",
       "      <td>0.218750</td>\n",
       "      <td>2.0</td>\n",
       "    </tr>\n",
       "    <tr>\n",
       "      <th>63</th>\n",
       "      <td>0.360635</td>\n",
       "      <td>0.533125</td>\n",
       "      <td>0.097348</td>\n",
       "      <td>0.176250</td>\n",
       "      <td>2.0</td>\n",
       "    </tr>\n",
       "    <tr>\n",
       "      <th>64</th>\n",
       "      <td>0.576963</td>\n",
       "      <td>0.461250</td>\n",
       "      <td>0.042434</td>\n",
       "      <td>0.090000</td>\n",
       "      <td>2.0</td>\n",
       "    </tr>\n",
       "    <tr>\n",
       "      <th>65</th>\n",
       "      <td>0.628965</td>\n",
       "      <td>0.449375</td>\n",
       "      <td>0.034945</td>\n",
       "      <td>0.103750</td>\n",
       "      <td>2.0</td>\n",
       "    </tr>\n",
       "    <tr>\n",
       "      <th>66</th>\n",
       "      <td>0.656838</td>\n",
       "      <td>0.586250</td>\n",
       "      <td>0.090691</td>\n",
       "      <td>0.205000</td>\n",
       "      <td>2.0</td>\n",
       "    </tr>\n",
       "  </tbody>\n",
       "</table>\n",
       "<p>67 rows × 5 columns</p>\n",
       "</div>"
      ],
      "text/plain": [
       "           1         2         3         4    0\n",
       "0   0.414794  0.342500  0.181648  0.155000  0.0\n",
       "1   0.430712  0.544375  0.434457  0.233750  2.0\n",
       "2   0.646510  0.262071  0.132305  0.247982  0.0\n",
       "3   0.254870  0.674928  0.186688  0.467815  2.0\n",
       "4   0.641234  0.599193  0.217532  0.407495  2.0\n",
       "..       ...       ...       ...       ...  ...\n",
       "62  0.919344  0.558125  0.068227  0.218750  2.0\n",
       "63  0.360635  0.533125  0.097348  0.176250  2.0\n",
       "64  0.576963  0.461250  0.042434  0.090000  2.0\n",
       "65  0.628965  0.449375  0.034945  0.103750  2.0\n",
       "66  0.656838  0.586250  0.090691  0.205000  2.0\n",
       "\n",
       "[67 rows x 5 columns]"
      ]
     },
     "execution_count": 30,
     "metadata": {},
     "output_type": "execute_result"
    }
   ],
   "source": [
    "df_val_ori = pd.DataFrame(columns=range(1, 5))\n",
    "\n",
    "for text in os.listdir(path_val_ori):\n",
    "    # print(text)\n",
    "    with open(join(path_val_ori,text), \"r\") as file:\n",
    "        df = pd.read_csv((file), sep=\" \", header = None)\n",
    "        # print(df)\n",
    "        df_val_ori = pd.concat([df_val_ori, df], ignore_index=True)\n",
    "df_val_ori"
   ]
  },
  {
   "cell_type": "code",
   "execution_count": 2,
   "metadata": {},
   "outputs": [],
   "source": [
    "def read_labels(path_txt):\n",
    "    df = pd.DataFrame(columns=range(1, 5))\n",
    "    for text in os.listdir(path_txt):\n",
    "        with open(join(path_txt,text), \"r\") as file:\n",
    "            df_txt = pd.read_csv((file), sep=\" \", header = None)\n",
    "            df = pd.concat([df, df_txt], ignore_index=True)\n",
    "    return df\n",
    "        "
   ]
  },
  {
   "cell_type": "code",
   "execution_count": 35,
   "metadata": {},
   "outputs": [
    {
     "data": {
      "text/html": [
       "<div>\n",
       "<style scoped>\n",
       "    .dataframe tbody tr th:only-of-type {\n",
       "        vertical-align: middle;\n",
       "    }\n",
       "\n",
       "    .dataframe tbody tr th {\n",
       "        vertical-align: top;\n",
       "    }\n",
       "\n",
       "    .dataframe thead th {\n",
       "        text-align: right;\n",
       "    }\n",
       "</style>\n",
       "<table border=\"1\" class=\"dataframe\">\n",
       "  <thead>\n",
       "    <tr style=\"text-align: right;\">\n",
       "      <th></th>\n",
       "      <th>1</th>\n",
       "      <th>2</th>\n",
       "      <th>3</th>\n",
       "      <th>4</th>\n",
       "      <th>0</th>\n",
       "    </tr>\n",
       "  </thead>\n",
       "  <tbody>\n",
       "    <tr>\n",
       "      <th>0</th>\n",
       "      <td>0.475932</td>\n",
       "      <td>0.152500</td>\n",
       "      <td>0.284802</td>\n",
       "      <td>0.25000</td>\n",
       "      <td>0.0</td>\n",
       "    </tr>\n",
       "    <tr>\n",
       "      <th>1</th>\n",
       "      <td>0.335864</td>\n",
       "      <td>0.168125</td>\n",
       "      <td>0.142458</td>\n",
       "      <td>0.23125</td>\n",
       "      <td>0.0</td>\n",
       "    </tr>\n",
       "    <tr>\n",
       "      <th>2</th>\n",
       "      <td>0.529642</td>\n",
       "      <td>0.185000</td>\n",
       "      <td>0.112374</td>\n",
       "      <td>0.19750</td>\n",
       "      <td>0.0</td>\n",
       "    </tr>\n",
       "    <tr>\n",
       "      <th>3</th>\n",
       "      <td>0.931833</td>\n",
       "      <td>0.222500</td>\n",
       "      <td>0.136334</td>\n",
       "      <td>0.19250</td>\n",
       "      <td>0.0</td>\n",
       "    </tr>\n",
       "    <tr>\n",
       "      <th>4</th>\n",
       "      <td>0.815885</td>\n",
       "      <td>0.125000</td>\n",
       "      <td>0.097331</td>\n",
       "      <td>0.17000</td>\n",
       "      <td>0.0</td>\n",
       "    </tr>\n",
       "    <tr>\n",
       "      <th>...</th>\n",
       "      <td>...</td>\n",
       "      <td>...</td>\n",
       "      <td>...</td>\n",
       "      <td>...</td>\n",
       "      <td>...</td>\n",
       "    </tr>\n",
       "    <tr>\n",
       "      <th>318</th>\n",
       "      <td>0.501159</td>\n",
       "      <td>0.870000</td>\n",
       "      <td>0.899227</td>\n",
       "      <td>0.25250</td>\n",
       "      <td>2.0</td>\n",
       "    </tr>\n",
       "    <tr>\n",
       "      <th>319</th>\n",
       "      <td>0.492500</td>\n",
       "      <td>0.426250</td>\n",
       "      <td>0.320000</td>\n",
       "      <td>0.44500</td>\n",
       "      <td>0.0</td>\n",
       "    </tr>\n",
       "    <tr>\n",
       "      <th>320</th>\n",
       "      <td>0.500000</td>\n",
       "      <td>0.721875</td>\n",
       "      <td>0.527500</td>\n",
       "      <td>0.17625</td>\n",
       "      <td>2.0</td>\n",
       "    </tr>\n",
       "    <tr>\n",
       "      <th>321</th>\n",
       "      <td>0.496250</td>\n",
       "      <td>0.344375</td>\n",
       "      <td>0.227500</td>\n",
       "      <td>0.50125</td>\n",
       "      <td>0.0</td>\n",
       "    </tr>\n",
       "    <tr>\n",
       "      <th>322</th>\n",
       "      <td>0.621445</td>\n",
       "      <td>0.300000</td>\n",
       "      <td>0.166364</td>\n",
       "      <td>0.35250</td>\n",
       "      <td>0.0</td>\n",
       "    </tr>\n",
       "  </tbody>\n",
       "</table>\n",
       "<p>323 rows × 5 columns</p>\n",
       "</div>"
      ],
      "text/plain": [
       "            1         2         3        4    0\n",
       "0    0.475932  0.152500  0.284802  0.25000  0.0\n",
       "1    0.335864  0.168125  0.142458  0.23125  0.0\n",
       "2    0.529642  0.185000  0.112374  0.19750  0.0\n",
       "3    0.931833  0.222500  0.136334  0.19250  0.0\n",
       "4    0.815885  0.125000  0.097331  0.17000  0.0\n",
       "..        ...       ...       ...      ...  ...\n",
       "318  0.501159  0.870000  0.899227  0.25250  2.0\n",
       "319  0.492500  0.426250  0.320000  0.44500  0.0\n",
       "320  0.500000  0.721875  0.527500  0.17625  2.0\n",
       "321  0.496250  0.344375  0.227500  0.50125  0.0\n",
       "322  0.621445  0.300000  0.166364  0.35250  0.0\n",
       "\n",
       "[323 rows x 5 columns]"
      ]
     },
     "execution_count": 35,
     "metadata": {},
     "output_type": "execute_result"
    }
   ],
   "source": [
    "df_train_ori = read_labels(path_train_ori)\n",
    "df_train_ori"
   ]
  },
  {
   "cell_type": "code",
   "execution_count": 32,
   "metadata": {},
   "outputs": [
    {
     "data": {
      "text/html": [
       "<div>\n",
       "<style scoped>\n",
       "    .dataframe tbody tr th:only-of-type {\n",
       "        vertical-align: middle;\n",
       "    }\n",
       "\n",
       "    .dataframe tbody tr th {\n",
       "        vertical-align: top;\n",
       "    }\n",
       "\n",
       "    .dataframe thead th {\n",
       "        text-align: right;\n",
       "    }\n",
       "</style>\n",
       "<table border=\"1\" class=\"dataframe\">\n",
       "  <thead>\n",
       "    <tr style=\"text-align: right;\">\n",
       "      <th></th>\n",
       "      <th>1</th>\n",
       "      <th>2</th>\n",
       "      <th>3</th>\n",
       "      <th>4</th>\n",
       "      <th>0</th>\n",
       "    </tr>\n",
       "  </thead>\n",
       "  <tbody>\n",
       "    <tr>\n",
       "      <th>0</th>\n",
       "      <td>0.414794</td>\n",
       "      <td>0.342500</td>\n",
       "      <td>0.181648</td>\n",
       "      <td>0.155000</td>\n",
       "      <td>0.0</td>\n",
       "    </tr>\n",
       "    <tr>\n",
       "      <th>1</th>\n",
       "      <td>0.430712</td>\n",
       "      <td>0.544375</td>\n",
       "      <td>0.434457</td>\n",
       "      <td>0.233750</td>\n",
       "      <td>2.0</td>\n",
       "    </tr>\n",
       "    <tr>\n",
       "      <th>2</th>\n",
       "      <td>0.646510</td>\n",
       "      <td>0.262071</td>\n",
       "      <td>0.132305</td>\n",
       "      <td>0.247982</td>\n",
       "      <td>0.0</td>\n",
       "    </tr>\n",
       "    <tr>\n",
       "      <th>3</th>\n",
       "      <td>0.254870</td>\n",
       "      <td>0.674928</td>\n",
       "      <td>0.186688</td>\n",
       "      <td>0.467815</td>\n",
       "      <td>2.0</td>\n",
       "    </tr>\n",
       "    <tr>\n",
       "      <th>4</th>\n",
       "      <td>0.641234</td>\n",
       "      <td>0.599193</td>\n",
       "      <td>0.217532</td>\n",
       "      <td>0.407495</td>\n",
       "      <td>2.0</td>\n",
       "    </tr>\n",
       "    <tr>\n",
       "      <th>...</th>\n",
       "      <td>...</td>\n",
       "      <td>...</td>\n",
       "      <td>...</td>\n",
       "      <td>...</td>\n",
       "      <td>...</td>\n",
       "    </tr>\n",
       "    <tr>\n",
       "      <th>62</th>\n",
       "      <td>0.919344</td>\n",
       "      <td>0.558125</td>\n",
       "      <td>0.068227</td>\n",
       "      <td>0.218750</td>\n",
       "      <td>2.0</td>\n",
       "    </tr>\n",
       "    <tr>\n",
       "      <th>63</th>\n",
       "      <td>0.360635</td>\n",
       "      <td>0.533125</td>\n",
       "      <td>0.097348</td>\n",
       "      <td>0.176250</td>\n",
       "      <td>2.0</td>\n",
       "    </tr>\n",
       "    <tr>\n",
       "      <th>64</th>\n",
       "      <td>0.576963</td>\n",
       "      <td>0.461250</td>\n",
       "      <td>0.042434</td>\n",
       "      <td>0.090000</td>\n",
       "      <td>2.0</td>\n",
       "    </tr>\n",
       "    <tr>\n",
       "      <th>65</th>\n",
       "      <td>0.628965</td>\n",
       "      <td>0.449375</td>\n",
       "      <td>0.034945</td>\n",
       "      <td>0.103750</td>\n",
       "      <td>2.0</td>\n",
       "    </tr>\n",
       "    <tr>\n",
       "      <th>66</th>\n",
       "      <td>0.656838</td>\n",
       "      <td>0.586250</td>\n",
       "      <td>0.090691</td>\n",
       "      <td>0.205000</td>\n",
       "      <td>2.0</td>\n",
       "    </tr>\n",
       "  </tbody>\n",
       "</table>\n",
       "<p>67 rows × 5 columns</p>\n",
       "</div>"
      ],
      "text/plain": [
       "           1         2         3         4    0\n",
       "0   0.414794  0.342500  0.181648  0.155000  0.0\n",
       "1   0.430712  0.544375  0.434457  0.233750  2.0\n",
       "2   0.646510  0.262071  0.132305  0.247982  0.0\n",
       "3   0.254870  0.674928  0.186688  0.467815  2.0\n",
       "4   0.641234  0.599193  0.217532  0.407495  2.0\n",
       "..       ...       ...       ...       ...  ...\n",
       "62  0.919344  0.558125  0.068227  0.218750  2.0\n",
       "63  0.360635  0.533125  0.097348  0.176250  2.0\n",
       "64  0.576963  0.461250  0.042434  0.090000  2.0\n",
       "65  0.628965  0.449375  0.034945  0.103750  2.0\n",
       "66  0.656838  0.586250  0.090691  0.205000  2.0\n",
       "\n",
       "[67 rows x 5 columns]"
      ]
     },
     "execution_count": 32,
     "metadata": {},
     "output_type": "execute_result"
    }
   ],
   "source": [
    "df_val_ori = read_labels(path_val_ori)\n",
    "df_val_ori"
   ]
  },
  {
   "cell_type": "code",
   "execution_count": 37,
   "metadata": {},
   "outputs": [
    {
     "data": {
      "text/plain": [
       "0.0    159\n",
       "2.0    103\n",
       "1.0     61\n",
       "Name: 0, dtype: int64"
      ]
     },
     "execution_count": 37,
     "metadata": {},
     "output_type": "execute_result"
    }
   ],
   "source": [
    "df_train_ori[0].value_counts()"
   ]
  },
  {
   "cell_type": "code",
   "execution_count": 38,
   "metadata": {},
   "outputs": [
    {
     "data": {
      "text/plain": [
       "0.0    35\n",
       "2.0    31\n",
       "1.0     1\n",
       "Name: 0, dtype: int64"
      ]
     },
     "execution_count": 38,
     "metadata": {},
     "output_type": "execute_result"
    }
   ],
   "source": [
    "df_val_ori[0].value_counts()"
   ]
  },
  {
   "cell_type": "code",
   "execution_count": 165,
   "metadata": {},
   "outputs": [
    {
     "data": {
      "text/html": [
       "<div>\n",
       "<style scoped>\n",
       "    .dataframe tbody tr th:only-of-type {\n",
       "        vertical-align: middle;\n",
       "    }\n",
       "\n",
       "    .dataframe tbody tr th {\n",
       "        vertical-align: top;\n",
       "    }\n",
       "\n",
       "    .dataframe thead th {\n",
       "        text-align: right;\n",
       "    }\n",
       "</style>\n",
       "<table border=\"1\" class=\"dataframe\">\n",
       "  <thead>\n",
       "    <tr style=\"text-align: right;\">\n",
       "      <th></th>\n",
       "      <th>casque</th>\n",
       "      <th>no_casque</th>\n",
       "      <th>no_gilet</th>\n",
       "    </tr>\n",
       "  </thead>\n",
       "  <tbody>\n",
       "    <tr>\n",
       "      <th>train</th>\n",
       "      <td>159</td>\n",
       "      <td>103</td>\n",
       "      <td>61</td>\n",
       "    </tr>\n",
       "    <tr>\n",
       "      <th>val</th>\n",
       "      <td>35</td>\n",
       "      <td>1</td>\n",
       "      <td>32</td>\n",
       "    </tr>\n",
       "  </tbody>\n",
       "</table>\n",
       "</div>"
      ],
      "text/plain": [
       "       casque  no_casque  no_gilet\n",
       "train     159        103        61\n",
       "val        35          1        32"
      ]
     },
     "execution_count": 165,
     "metadata": {},
     "output_type": "execute_result"
    }
   ],
   "source": [
    "index = ['train','val']\n",
    "columns = ['casque','no_casque','no_gilet',]\n",
    "data = np.array([[159,103,61],\n",
    "                 [35,1,32],])\n",
    "df = pd.DataFrame(data=data,index=index,columns=columns)\n",
    "df"
   ]
  },
  {
   "cell_type": "code",
   "execution_count": 168,
   "metadata": {},
   "outputs": [
    {
     "data": {
      "image/png": "[encoded data removed]",
      "text/plain": [
       "<Figure size 640x480 with 1 Axes>"
      ]
     },
     "metadata": {},
     "output_type": "display_data"
    }
   ],
   "source": [
    "ax = df.plot(kind='bar', ) # figsize=(10, 6))\n",
    "#ax.grid('off', which='major', axis='x' )\n",
    "#ax.grid('off', which='major', axis='y' )\n",
    "ax.set_xlabel(\"Répartition des données labellisées\")\n",
    "ax.grid('off', which='major', axis='y' )"
   ]
  },
  {
   "cell_type": "code",
   "execution_count": null,
   "metadata": {},
   "outputs": [],
   "source": []
  },
  {
   "cell_type": "markdown",
   "metadata": {},
   "source": [
    "## Analyse du dataset avec d'origine après labélisation des gilets"
   ]
  },
  {
   "cell_type": "code",
   "execution_count": 16,
   "metadata": {},
   "outputs": [],
   "source": [
    "file_train = \"/home/mld/Documents/CAS_PRATIQUE_Verificateur_Uniforme/Dataset/LABELISATIONS_SAUV/labels_train3.csv\"\n",
    "file_val = \"/home/mld/Documents/CAS_PRATIQUE_Verificateur_Uniforme/Dataset/LABELISATIONS_SAUV/labels_val3.csv\"\n",
    "path_train = \"/home/mld/Documents/CAS_PRATIQUE_Verificateur_Uniforme/Dataset/Coco_Format/labels/train/\"\n",
    "pathe_val = \"/home/mld/Documents/CAS_PRATIQUE_Verificateur_Uniforme/Dataset/Coco_Format/labels/val/\""
   ]
  },
  {
   "cell_type": "code",
   "execution_count": 9,
   "metadata": {},
   "outputs": [],
   "source": [
    "with open(file_train, \"r\") as file:\n",
    "    df_train = pd.read_csv(file)\n",
    "df_train"
   ]
  },
  {
   "cell_type": "code",
   "execution_count": 8,
   "metadata": {},
   "outputs": [
    {
     "data": {
      "text/html": [
       "<div>\n",
       "<style scoped>\n",
       "    .dataframe tbody tr th:only-of-type {\n",
       "        vertical-align: middle;\n",
       "    }\n",
       "\n",
       "    .dataframe tbody tr th {\n",
       "        vertical-align: top;\n",
       "    }\n",
       "\n",
       "    .dataframe thead th {\n",
       "        text-align: right;\n",
       "    }\n",
       "</style>\n",
       "<table border=\"1\" class=\"dataframe\">\n",
       "  <thead>\n",
       "    <tr style=\"text-align: right;\">\n",
       "      <th></th>\n",
       "      <th>label_name</th>\n",
       "      <th>bbox_x</th>\n",
       "      <th>bbox_y</th>\n",
       "      <th>bbox_width</th>\n",
       "      <th>bbox_height</th>\n",
       "      <th>image_name</th>\n",
       "      <th>image_width</th>\n",
       "      <th>image_height</th>\n",
       "    </tr>\n",
       "  </thead>\n",
       "  <tbody>\n",
       "    <tr>\n",
       "      <th>0</th>\n",
       "      <td>casque</td>\n",
       "      <td>201</td>\n",
       "      <td>45</td>\n",
       "      <td>65</td>\n",
       "      <td>104</td>\n",
       "      <td>11_jpg.rf.24ff1255441a11b4fe5b7afec1986508.jpg</td>\n",
       "      <td>416</td>\n",
       "      <td>416</td>\n",
       "    </tr>\n",
       "    <tr>\n",
       "      <th>1</th>\n",
       "      <td>NO_gilet</td>\n",
       "      <td>188</td>\n",
       "      <td>151</td>\n",
       "      <td>120</td>\n",
       "      <td>166</td>\n",
       "      <td>11_jpg.rf.24ff1255441a11b4fe5b7afec1986508.jpg</td>\n",
       "      <td>416</td>\n",
       "      <td>416</td>\n",
       "    </tr>\n",
       "    <tr>\n",
       "      <th>2</th>\n",
       "      <td>casque</td>\n",
       "      <td>162</td>\n",
       "      <td>14</td>\n",
       "      <td>96</td>\n",
       "      <td>82</td>\n",
       "      <td>12_jpg.rf.74cc4b283fb38b8a6c476981be2c0d83.jpg</td>\n",
       "      <td>416</td>\n",
       "      <td>416</td>\n",
       "    </tr>\n",
       "    <tr>\n",
       "      <th>3</th>\n",
       "      <td>gilet</td>\n",
       "      <td>120</td>\n",
       "      <td>100</td>\n",
       "      <td>193</td>\n",
       "      <td>216</td>\n",
       "      <td>12_jpg.rf.74cc4b283fb38b8a6c476981be2c0d83.jpg</td>\n",
       "      <td>416</td>\n",
       "      <td>416</td>\n",
       "    </tr>\n",
       "    <tr>\n",
       "      <th>4</th>\n",
       "      <td>NO_gilet</td>\n",
       "      <td>125</td>\n",
       "      <td>228</td>\n",
       "      <td>155</td>\n",
       "      <td>188</td>\n",
       "      <td>19--2-_jpg.rf.7138cf3af584191671c2da3415b5f2a5...</td>\n",
       "      <td>416</td>\n",
       "      <td>416</td>\n",
       "    </tr>\n",
       "    <tr>\n",
       "      <th>...</th>\n",
       "      <td>...</td>\n",
       "      <td>...</td>\n",
       "      <td>...</td>\n",
       "      <td>...</td>\n",
       "      <td>...</td>\n",
       "      <td>...</td>\n",
       "      <td>...</td>\n",
       "      <td>...</td>\n",
       "    </tr>\n",
       "    <tr>\n",
       "      <th>119</th>\n",
       "      <td>NO_casque</td>\n",
       "      <td>168</td>\n",
       "      <td>33</td>\n",
       "      <td>89</td>\n",
       "      <td>270</td>\n",
       "      <td>5_jpg.rf.8df723a0449fc8958dc165a8fe36a24b.jpg</td>\n",
       "      <td>416</td>\n",
       "      <td>416</td>\n",
       "    </tr>\n",
       "    <tr>\n",
       "      <th>120</th>\n",
       "      <td>NO_gilet</td>\n",
       "      <td>106</td>\n",
       "      <td>231</td>\n",
       "      <td>154</td>\n",
       "      <td>185</td>\n",
       "      <td>5_jpg.rf.8df723a0449fc8958dc165a8fe36a24b.jpg</td>\n",
       "      <td>416</td>\n",
       "      <td>416</td>\n",
       "    </tr>\n",
       "    <tr>\n",
       "      <th>121</th>\n",
       "      <td>NO_gilet</td>\n",
       "      <td>244</td>\n",
       "      <td>152</td>\n",
       "      <td>166</td>\n",
       "      <td>261</td>\n",
       "      <td>5_jpg.rf.8df723a0449fc8958dc165a8fe36a24b.jpg</td>\n",
       "      <td>416</td>\n",
       "      <td>416</td>\n",
       "    </tr>\n",
       "    <tr>\n",
       "      <th>122</th>\n",
       "      <td>casque</td>\n",
       "      <td>172</td>\n",
       "      <td>28</td>\n",
       "      <td>92</td>\n",
       "      <td>161</td>\n",
       "      <td>7_jpg.rf.48004c70b768b4304bf986875c791272.jpg</td>\n",
       "      <td>416</td>\n",
       "      <td>416</td>\n",
       "    </tr>\n",
       "    <tr>\n",
       "      <th>123</th>\n",
       "      <td>gilet</td>\n",
       "      <td>121</td>\n",
       "      <td>187</td>\n",
       "      <td>172</td>\n",
       "      <td>229</td>\n",
       "      <td>7_jpg.rf.48004c70b768b4304bf986875c791272.jpg</td>\n",
       "      <td>416</td>\n",
       "      <td>416</td>\n",
       "    </tr>\n",
       "  </tbody>\n",
       "</table>\n",
       "<p>124 rows × 8 columns</p>\n",
       "</div>"
      ],
      "text/plain": [
       "    label_name  bbox_x  bbox_y  bbox_width  bbox_height  \\\n",
       "0       casque     201      45          65          104   \n",
       "1     NO_gilet     188     151         120          166   \n",
       "2       casque     162      14          96           82   \n",
       "3        gilet     120     100         193          216   \n",
       "4     NO_gilet     125     228         155          188   \n",
       "..         ...     ...     ...         ...          ...   \n",
       "119  NO_casque     168      33          89          270   \n",
       "120   NO_gilet     106     231         154          185   \n",
       "121   NO_gilet     244     152         166          261   \n",
       "122     casque     172      28          92          161   \n",
       "123      gilet     121     187         172          229   \n",
       "\n",
       "                                            image_name  image_width  \\\n",
       "0       11_jpg.rf.24ff1255441a11b4fe5b7afec1986508.jpg          416   \n",
       "1       11_jpg.rf.24ff1255441a11b4fe5b7afec1986508.jpg          416   \n",
       "2       12_jpg.rf.74cc4b283fb38b8a6c476981be2c0d83.jpg          416   \n",
       "3       12_jpg.rf.74cc4b283fb38b8a6c476981be2c0d83.jpg          416   \n",
       "4    19--2-_jpg.rf.7138cf3af584191671c2da3415b5f2a5...          416   \n",
       "..                                                 ...          ...   \n",
       "119      5_jpg.rf.8df723a0449fc8958dc165a8fe36a24b.jpg          416   \n",
       "120      5_jpg.rf.8df723a0449fc8958dc165a8fe36a24b.jpg          416   \n",
       "121      5_jpg.rf.8df723a0449fc8958dc165a8fe36a24b.jpg          416   \n",
       "122      7_jpg.rf.48004c70b768b4304bf986875c791272.jpg          416   \n",
       "123      7_jpg.rf.48004c70b768b4304bf986875c791272.jpg          416   \n",
       "\n",
       "     image_height  \n",
       "0             416  \n",
       "1             416  \n",
       "2             416  \n",
       "3             416  \n",
       "4             416  \n",
       "..            ...  \n",
       "119           416  \n",
       "120           416  \n",
       "121           416  \n",
       "122           416  \n",
       "123           416  \n",
       "\n",
       "[124 rows x 8 columns]"
      ]
     },
     "execution_count": 8,
     "metadata": {},
     "output_type": "execute_result"
    }
   ],
   "source": [
    "with open(file_val, \"r\") as file:\n",
    "    df_val = pd.read_csv(file)\n",
    "df_val"
   ]
  },
  {
   "cell_type": "code",
   "execution_count": 7,
   "metadata": {},
   "outputs": [
    {
     "data": {
      "text/plain": [
       "casque       134\n",
       "gilet         97\n",
       "NO_gilet      93\n",
       "NO_casque     63\n",
       "Name: label_name, dtype: int64"
      ]
     },
     "execution_count": 7,
     "metadata": {},
     "output_type": "execute_result"
    }
   ],
   "source": [
    "df_train['label_name'].value_counts()"
   ]
  },
  {
   "cell_type": "code",
   "execution_count": 9,
   "metadata": {},
   "outputs": [
    {
     "data": {
      "text/plain": [
       "NO_gilet     52\n",
       "casque       40\n",
       "NO_casque    22\n",
       "gilet        10\n",
       "Name: label_name, dtype: int64"
      ]
     },
     "execution_count": 9,
     "metadata": {},
     "output_type": "execute_result"
    }
   ],
   "source": [
    "df_val['label_name'].value_counts()"
   ]
  },
  {
   "cell_type": "markdown",
   "metadata": {},
   "source": [
    "## Changement des labels"
   ]
  },
  {
   "cell_type": "code",
   "execution_count": 80,
   "metadata": {},
   "outputs": [
    {
     "data": {
      "text/html": [
       "<div>\n",
       "<style scoped>\n",
       "    .dataframe tbody tr th:only-of-type {\n",
       "        vertical-align: middle;\n",
       "    }\n",
       "\n",
       "    .dataframe tbody tr th {\n",
       "        vertical-align: top;\n",
       "    }\n",
       "\n",
       "    .dataframe thead th {\n",
       "        text-align: right;\n",
       "    }\n",
       "</style>\n",
       "<table border=\"1\" class=\"dataframe\">\n",
       "  <thead>\n",
       "    <tr style=\"text-align: right;\">\n",
       "      <th></th>\n",
       "      <th>0</th>\n",
       "      <th>1</th>\n",
       "      <th>2</th>\n",
       "      <th>3</th>\n",
       "      <th>4</th>\n",
       "    </tr>\n",
       "  </thead>\n",
       "  <tbody>\n",
       "    <tr>\n",
       "      <th>0</th>\n",
       "      <td>0</td>\n",
       "      <td>0.570557</td>\n",
       "      <td>0.650697</td>\n",
       "      <td>0.144599</td>\n",
       "      <td>0.134146</td>\n",
       "    </tr>\n",
       "    <tr>\n",
       "      <th>1</th>\n",
       "      <td>0</td>\n",
       "      <td>0.424791</td>\n",
       "      <td>0.092112</td>\n",
       "      <td>0.151937</td>\n",
       "      <td>0.131046</td>\n",
       "    </tr>\n",
       "    <tr>\n",
       "      <th>2</th>\n",
       "      <td>0</td>\n",
       "      <td>0.165813</td>\n",
       "      <td>0.072457</td>\n",
       "      <td>0.174831</td>\n",
       "      <td>0.137317</td>\n",
       "    </tr>\n",
       "    <tr>\n",
       "      <th>3</th>\n",
       "      <td>1</td>\n",
       "      <td>0.727372</td>\n",
       "      <td>0.251680</td>\n",
       "      <td>0.245686</td>\n",
       "      <td>0.308238</td>\n",
       "    </tr>\n",
       "    <tr>\n",
       "      <th>4</th>\n",
       "      <td>2</td>\n",
       "      <td>0.694251</td>\n",
       "      <td>0.071429</td>\n",
       "      <td>0.148084</td>\n",
       "      <td>0.139373</td>\n",
       "    </tr>\n",
       "    <tr>\n",
       "      <th>5</th>\n",
       "      <td>3</td>\n",
       "      <td>0.366650</td>\n",
       "      <td>0.264270</td>\n",
       "      <td>0.147935</td>\n",
       "      <td>0.288122</td>\n",
       "    </tr>\n",
       "    <tr>\n",
       "      <th>6</th>\n",
       "      <td>3</td>\n",
       "      <td>0.115219</td>\n",
       "      <td>0.226640</td>\n",
       "      <td>0.225374</td>\n",
       "      <td>0.249430</td>\n",
       "    </tr>\n",
       "    <tr>\n",
       "      <th>7</th>\n",
       "      <td>3</td>\n",
       "      <td>0.600785</td>\n",
       "      <td>0.784930</td>\n",
       "      <td>0.234237</td>\n",
       "      <td>0.204007</td>\n",
       "    </tr>\n",
       "  </tbody>\n",
       "</table>\n",
       "</div>"
      ],
      "text/plain": [
       "   0         1         2         3         4\n",
       "0  0  0.570557  0.650697  0.144599  0.134146\n",
       "1  0  0.424791  0.092112  0.151937  0.131046\n",
       "2  0  0.165813  0.072457  0.174831  0.137317\n",
       "3  1  0.727372  0.251680  0.245686  0.308238\n",
       "4  2  0.694251  0.071429  0.148084  0.139373\n",
       "5  3  0.366650  0.264270  0.147935  0.288122\n",
       "6  3  0.115219  0.226640  0.225374  0.249430\n",
       "7  3  0.600785  0.784930  0.234237  0.204007"
      ]
     },
     "execution_count": 80,
     "metadata": {},
     "output_type": "execute_result"
    }
   ],
   "source": [
    "p=\"C:/Users/Utilisateur/Documents/mld/5_Projets/CAS_PRATIQUE_Verificateur_Uniforme/Dataset/Coco_Format/test_label/296_jpg.rf.9b310b674ecf50342f98519b7ea53e95.txt\"\n",
    "with open(p, \"r+\") as file:\n",
    "    df_txt = pd.read_csv((file), sep=\" \", header = None)\n",
    "    df[0] = df[0].replace()\n",
    "df_txt"
   ]
  },
  {
   "cell_type": "code",
   "execution_count": 5,
   "metadata": {},
   "outputs": [
    {
     "name": "stdout",
     "output_type": "stream",
     "text": [
      "   0         1         2         3         4\n",
      "0  0  0.570557  0.650697  0.144599  0.134146\n",
      "1  0  0.424791  0.092112  0.151937  0.131046\n",
      "2  0  0.165813  0.072457  0.174831  0.137317\n",
      "3  2  0.727372  0.251680  0.245686  0.308238\n",
      "4  1  0.694251  0.071429  0.148084  0.139373\n",
      "5  3  0.366650  0.264270  0.147935  0.288122\n",
      "6  3  0.115219  0.226640  0.225374  0.249430\n",
      "7  3  0.600785  0.784930  0.234237  0.204007\n"
     ]
    }
   ],
   "source": [
    "p=\"C:/Users/Utilisateur/Documents/mld/5_Projets/CAS_PRATIQUE_Verificateur_Uniforme/Dataset/Coco_Format/test_label/296_jpg.rf.9b310b674ecf50342f98519b7ea53e95.txt\"\n",
    "\n",
    "file = open(p, \"r\")\n",
    "df_txt = pd.read_csv((file), sep=\" \", header = None)\n",
    "df_txt[0] = df_txt[0].replace(1,4).replace(2,1).replace(4,2)\n",
    "print(df_txt)\n",
    "file = open(p, \"w\")\n",
    "df_txt.to_csv(p, header=None, index=None, sep=' ', mode='w')\n",
    "file.close()\n",
    "\n"
   ]
  },
  {
   "cell_type": "code",
   "execution_count": 15,
   "metadata": {},
   "outputs": [],
   "source": [
    "def change_label(path_txt):\n",
    "    for text in os.listdir(path_txt):\n",
    "        file = open(join(path_txt,text), \"r\")\n",
    "        df_txt = pd.read_csv((file), sep=\" \", header = None)\n",
    "        df_txt[0] = df_txt[0].replace(1,4).replace(2,1).replace(4,2)\n",
    "        file = open(join(path_txt,text), \"w\")\n",
    "        df_txt.to_csv(join(path_txt,text), header=None, index=None, sep=' ', mode='w')\n",
    "        file.close()\n",
    "    return df_txt\n"
   ]
  },
  {
   "cell_type": "code",
   "execution_count": 16,
   "metadata": {},
   "outputs": [
    {
     "data": {
      "text/html": [
       "<div>\n",
       "<style scoped>\n",
       "    .dataframe tbody tr th:only-of-type {\n",
       "        vertical-align: middle;\n",
       "    }\n",
       "\n",
       "    .dataframe tbody tr th {\n",
       "        vertical-align: top;\n",
       "    }\n",
       "\n",
       "    .dataframe thead th {\n",
       "        text-align: right;\n",
       "    }\n",
       "</style>\n",
       "<table border=\"1\" class=\"dataframe\">\n",
       "  <thead>\n",
       "    <tr style=\"text-align: right;\">\n",
       "      <th></th>\n",
       "      <th>0</th>\n",
       "      <th>1</th>\n",
       "      <th>2</th>\n",
       "      <th>3</th>\n",
       "      <th>4</th>\n",
       "    </tr>\n",
       "  </thead>\n",
       "  <tbody>\n",
       "    <tr>\n",
       "      <th>0</th>\n",
       "      <td>1</td>\n",
       "      <td>0.600174</td>\n",
       "      <td>0.393728</td>\n",
       "      <td>0.506969</td>\n",
       "      <td>0.752613</td>\n",
       "    </tr>\n",
       "    <tr>\n",
       "      <th>1</th>\n",
       "      <td>3</td>\n",
       "      <td>0.599582</td>\n",
       "      <td>0.875348</td>\n",
       "      <td>0.800836</td>\n",
       "      <td>0.249304</td>\n",
       "    </tr>\n",
       "  </tbody>\n",
       "</table>\n",
       "</div>"
      ],
      "text/plain": [
       "   0         1         2         3         4\n",
       "0  1  0.600174  0.393728  0.506969  0.752613\n",
       "1  3  0.599582  0.875348  0.800836  0.249304"
      ]
     },
     "execution_count": 16,
     "metadata": {},
     "output_type": "execute_result"
    }
   ],
   "source": [
    "path=\"C:/Users/Utilisateur/Documents/mld/5_Projets/CAS_PRATIQUE_Verificateur_Uniforme/Dataset/Coco_Format/test_label/\"\n",
    "        \n",
    "df = change_label(path)\n",
    "df"
   ]
  },
  {
   "cell_type": "code",
   "execution_count": 17,
   "metadata": {},
   "outputs": [],
   "source": [
    "path_train=\"C:/Users/Utilisateur/Documents/mld/5_Projets/CAS_PRATIQUE_Verificateur_Uniforme/Dataset/Coco_Format/labels/train/\"\n",
    "path_val=\"C:/Users/Utilisateur/Documents/mld/5_Projets/CAS_PRATIQUE_Verificateur_Uniforme/Dataset/Coco_Format/labels/val/\"\n",
    "\n",
    "df_train = change_label(path_train)\n",
    "df_val = change_label(path_val)"
   ]
  },
  {
   "cell_type": "code",
   "execution_count": 20,
   "metadata": {},
   "outputs": [
    {
     "data": {
      "text/html": [
       "<div>\n",
       "<style scoped>\n",
       "    .dataframe tbody tr th:only-of-type {\n",
       "        vertical-align: middle;\n",
       "    }\n",
       "\n",
       "    .dataframe tbody tr th {\n",
       "        vertical-align: top;\n",
       "    }\n",
       "\n",
       "    .dataframe thead th {\n",
       "        text-align: right;\n",
       "    }\n",
       "</style>\n",
       "<table border=\"1\" class=\"dataframe\">\n",
       "  <thead>\n",
       "    <tr style=\"text-align: right;\">\n",
       "      <th></th>\n",
       "      <th>1</th>\n",
       "      <th>2</th>\n",
       "      <th>3</th>\n",
       "      <th>4</th>\n",
       "      <th>0</th>\n",
       "    </tr>\n",
       "  </thead>\n",
       "  <tbody>\n",
       "    <tr>\n",
       "      <th>0</th>\n",
       "      <td>0.475610</td>\n",
       "      <td>0.155052</td>\n",
       "      <td>0.285714</td>\n",
       "      <td>0.257840</td>\n",
       "      <td>0.0</td>\n",
       "    </tr>\n",
       "    <tr>\n",
       "      <th>1</th>\n",
       "      <td>0.504027</td>\n",
       "      <td>0.581509</td>\n",
       "      <td>0.687248</td>\n",
       "      <td>0.622948</td>\n",
       "      <td>2.0</td>\n",
       "    </tr>\n",
       "    <tr>\n",
       "      <th>2</th>\n",
       "      <td>0.328397</td>\n",
       "      <td>0.156794</td>\n",
       "      <td>0.151568</td>\n",
       "      <td>0.222997</td>\n",
       "      <td>0.0</td>\n",
       "    </tr>\n",
       "    <tr>\n",
       "      <th>3</th>\n",
       "      <td>0.524390</td>\n",
       "      <td>0.178571</td>\n",
       "      <td>0.118467</td>\n",
       "      <td>0.175958</td>\n",
       "      <td>0.0</td>\n",
       "    </tr>\n",
       "    <tr>\n",
       "      <th>4</th>\n",
       "      <td>0.063589</td>\n",
       "      <td>0.120209</td>\n",
       "      <td>0.092334</td>\n",
       "      <td>0.118467</td>\n",
       "      <td>0.0</td>\n",
       "    </tr>\n",
       "    <tr>\n",
       "      <th>...</th>\n",
       "      <td>...</td>\n",
       "      <td>...</td>\n",
       "      <td>...</td>\n",
       "      <td>...</td>\n",
       "      <td>...</td>\n",
       "    </tr>\n",
       "    <tr>\n",
       "      <th>382</th>\n",
       "      <td>0.456376</td>\n",
       "      <td>0.748258</td>\n",
       "      <td>0.508852</td>\n",
       "      <td>0.500000</td>\n",
       "      <td>2.0</td>\n",
       "    </tr>\n",
       "    <tr>\n",
       "      <th>383</th>\n",
       "      <td>0.621951</td>\n",
       "      <td>0.295961</td>\n",
       "      <td>0.188153</td>\n",
       "      <td>0.371866</td>\n",
       "      <td>0.0</td>\n",
       "    </tr>\n",
       "    <tr>\n",
       "      <th>384</th>\n",
       "      <td>0.612813</td>\n",
       "      <td>0.725610</td>\n",
       "      <td>0.420613</td>\n",
       "      <td>0.548780</td>\n",
       "      <td>2.0</td>\n",
       "    </tr>\n",
       "    <tr>\n",
       "      <th>385</th>\n",
       "      <td>0.459297</td>\n",
       "      <td>0.401568</td>\n",
       "      <td>0.283497</td>\n",
       "      <td>0.378049</td>\n",
       "      <td>1.0</td>\n",
       "    </tr>\n",
       "    <tr>\n",
       "      <th>386</th>\n",
       "      <td>0.486072</td>\n",
       "      <td>0.769499</td>\n",
       "      <td>0.721448</td>\n",
       "      <td>0.461002</td>\n",
       "      <td>3.0</td>\n",
       "    </tr>\n",
       "  </tbody>\n",
       "</table>\n",
       "<p>387 rows × 5 columns</p>\n",
       "</div>"
      ],
      "text/plain": [
       "            1         2         3         4    0\n",
       "0    0.475610  0.155052  0.285714  0.257840  0.0\n",
       "1    0.504027  0.581509  0.687248  0.622948  2.0\n",
       "2    0.328397  0.156794  0.151568  0.222997  0.0\n",
       "3    0.524390  0.178571  0.118467  0.175958  0.0\n",
       "4    0.063589  0.120209  0.092334  0.118467  0.0\n",
       "..        ...       ...       ...       ...  ...\n",
       "382  0.456376  0.748258  0.508852  0.500000  2.0\n",
       "383  0.621951  0.295961  0.188153  0.371866  0.0\n",
       "384  0.612813  0.725610  0.420613  0.548780  2.0\n",
       "385  0.459297  0.401568  0.283497  0.378049  1.0\n",
       "386  0.486072  0.769499  0.721448  0.461002  3.0\n",
       "\n",
       "[387 rows x 5 columns]"
      ]
     },
     "execution_count": 20,
     "metadata": {},
     "output_type": "execute_result"
    }
   ],
   "source": [
    "df_train3 = read_labels(path_train)\n",
    "df_train3"
   ]
  },
  {
   "cell_type": "code",
   "execution_count": 21,
   "metadata": {},
   "outputs": [
    {
     "data": {
      "text/html": [
       "<div>\n",
       "<style scoped>\n",
       "    .dataframe tbody tr th:only-of-type {\n",
       "        vertical-align: middle;\n",
       "    }\n",
       "\n",
       "    .dataframe tbody tr th {\n",
       "        vertical-align: top;\n",
       "    }\n",
       "\n",
       "    .dataframe thead th {\n",
       "        text-align: right;\n",
       "    }\n",
       "</style>\n",
       "<table border=\"1\" class=\"dataframe\">\n",
       "  <thead>\n",
       "    <tr style=\"text-align: right;\">\n",
       "      <th></th>\n",
       "      <th>1</th>\n",
       "      <th>2</th>\n",
       "      <th>3</th>\n",
       "      <th>4</th>\n",
       "      <th>0</th>\n",
       "    </tr>\n",
       "  </thead>\n",
       "  <tbody>\n",
       "    <tr>\n",
       "      <th>0</th>\n",
       "      <td>0.560105</td>\n",
       "      <td>0.233449</td>\n",
       "      <td>0.155052</td>\n",
       "      <td>0.250871</td>\n",
       "      <td>0.0</td>\n",
       "    </tr>\n",
       "    <tr>\n",
       "      <th>1</th>\n",
       "      <td>0.597561</td>\n",
       "      <td>0.561847</td>\n",
       "      <td>0.289199</td>\n",
       "      <td>0.398955</td>\n",
       "      <td>3.0</td>\n",
       "    </tr>\n",
       "    <tr>\n",
       "      <th>2</th>\n",
       "      <td>0.506098</td>\n",
       "      <td>0.133275</td>\n",
       "      <td>0.231707</td>\n",
       "      <td>0.196864</td>\n",
       "      <td>0.0</td>\n",
       "    </tr>\n",
       "    <tr>\n",
       "      <th>3</th>\n",
       "      <td>0.520195</td>\n",
       "      <td>0.500000</td>\n",
       "      <td>0.463788</td>\n",
       "      <td>0.518106</td>\n",
       "      <td>2.0</td>\n",
       "    </tr>\n",
       "    <tr>\n",
       "      <th>4</th>\n",
       "      <td>0.486655</td>\n",
       "      <td>0.773677</td>\n",
       "      <td>0.371638</td>\n",
       "      <td>0.452646</td>\n",
       "      <td>3.0</td>\n",
       "    </tr>\n",
       "    <tr>\n",
       "      <th>...</th>\n",
       "      <td>...</td>\n",
       "      <td>...</td>\n",
       "      <td>...</td>\n",
       "      <td>...</td>\n",
       "      <td>...</td>\n",
       "    </tr>\n",
       "    <tr>\n",
       "      <th>119</th>\n",
       "      <td>0.511324</td>\n",
       "      <td>0.405052</td>\n",
       "      <td>0.214286</td>\n",
       "      <td>0.649826</td>\n",
       "      <td>1.0</td>\n",
       "    </tr>\n",
       "    <tr>\n",
       "      <th>120</th>\n",
       "      <td>0.440155</td>\n",
       "      <td>0.777875</td>\n",
       "      <td>0.370561</td>\n",
       "      <td>0.444250</td>\n",
       "      <td>3.0</td>\n",
       "    </tr>\n",
       "    <tr>\n",
       "      <th>121</th>\n",
       "      <td>0.785023</td>\n",
       "      <td>0.678967</td>\n",
       "      <td>0.399314</td>\n",
       "      <td>0.628129</td>\n",
       "      <td>3.0</td>\n",
       "    </tr>\n",
       "    <tr>\n",
       "      <th>122</th>\n",
       "      <td>0.523519</td>\n",
       "      <td>0.259582</td>\n",
       "      <td>0.221254</td>\n",
       "      <td>0.386760</td>\n",
       "      <td>0.0</td>\n",
       "    </tr>\n",
       "    <tr>\n",
       "      <th>123</th>\n",
       "      <td>0.497911</td>\n",
       "      <td>0.724930</td>\n",
       "      <td>0.413649</td>\n",
       "      <td>0.550139</td>\n",
       "      <td>2.0</td>\n",
       "    </tr>\n",
       "  </tbody>\n",
       "</table>\n",
       "<p>124 rows × 5 columns</p>\n",
       "</div>"
      ],
      "text/plain": [
       "            1         2         3         4    0\n",
       "0    0.560105  0.233449  0.155052  0.250871  0.0\n",
       "1    0.597561  0.561847  0.289199  0.398955  3.0\n",
       "2    0.506098  0.133275  0.231707  0.196864  0.0\n",
       "3    0.520195  0.500000  0.463788  0.518106  2.0\n",
       "4    0.486655  0.773677  0.371638  0.452646  3.0\n",
       "..        ...       ...       ...       ...  ...\n",
       "119  0.511324  0.405052  0.214286  0.649826  1.0\n",
       "120  0.440155  0.777875  0.370561  0.444250  3.0\n",
       "121  0.785023  0.678967  0.399314  0.628129  3.0\n",
       "122  0.523519  0.259582  0.221254  0.386760  0.0\n",
       "123  0.497911  0.724930  0.413649  0.550139  2.0\n",
       "\n",
       "[124 rows x 5 columns]"
      ]
     },
     "execution_count": 21,
     "metadata": {},
     "output_type": "execute_result"
    }
   ],
   "source": [
    "df_val3 = read_labels(path_val)\n",
    "df_val3"
   ]
  },
  {
   "cell_type": "code",
   "execution_count": 22,
   "metadata": {},
   "outputs": [
    {
     "data": {
      "text/plain": [
       "0.0    134\n",
       "2.0     97\n",
       "3.0     93\n",
       "1.0     63\n",
       "Name: 0, dtype: int64"
      ]
     },
     "execution_count": 22,
     "metadata": {},
     "output_type": "execute_result"
    }
   ],
   "source": [
    "df_train3[0].value_counts()\n",
    "# 0 = Casque / 1 = NO casque / 2 = Gilet / 3 NO gilet"
   ]
  },
  {
   "cell_type": "code",
   "execution_count": null,
   "metadata": {},
   "outputs": [
    {
     "data": {
      "text/plain": [
       "casque       134\n",
       "gilet         97\n",
       "NO_gilet      93\n",
       "NO_casque     63\n",
       "Name: label_name, dtype: int64"
      ]
     },
     "metadata": {},
     "output_type": "display_data"
    }
   ],
   "source": [
    "df_train['label_name'].value_counts()"
   ]
  },
  {
   "cell_type": "code",
   "execution_count": 23,
   "metadata": {},
   "outputs": [
    {
     "data": {
      "text/plain": [
       "3.0    52\n",
       "0.0    40\n",
       "1.0    22\n",
       "2.0    10\n",
       "Name: 0, dtype: int64"
      ]
     },
     "execution_count": 23,
     "metadata": {},
     "output_type": "execute_result"
    }
   ],
   "source": [
    "df_val3[0].value_counts()"
   ]
  },
  {
   "cell_type": "code",
   "execution_count": null,
   "metadata": {},
   "outputs": [
    {
     "data": {
      "text/plain": [
       "NO_gilet     52\n",
       "casque       40\n",
       "NO_casque    22\n",
       "gilet        10\n",
       "Name: label_name, dtype: int64"
      ]
     },
     "metadata": {},
     "output_type": "display_data"
    }
   ],
   "source": [
    "df_val['label_name'].value_counts()"
   ]
  },
  {
   "cell_type": "code",
   "execution_count": 32,
   "metadata": {},
   "outputs": [
    {
     "name": "stdout",
     "output_type": "stream",
     "text": [
      "0.0    728\n",
      "3.0    661\n",
      "1.0    211\n",
      "2.0    181\n",
      "Name: 0, dtype: int64\n",
      "3.0    198\n",
      "0.0    174\n",
      "1.0     76\n",
      "2.0     25\n",
      "Name: 0, dtype: int64\n"
     ]
    }
   ],
   "source": [
    "# Comptage des labels avec les 300 images en sus\n",
    "path_train=\"C:/Users/Utilisateur/Documents/mld/5_Projets/CAS_PRATIQUE_Verificateur_Uniforme/Dataset/Coco_Format/labels/train/\"\n",
    "path_val=\"C:/Users/Utilisateur/Documents/mld/5_Projets/CAS_PRATIQUE_Verificateur_Uniforme/Dataset/Coco_Format/labels/val/\"\n",
    "df_train300 = read_labels(path_train)\n",
    "df_val300 = read_labels(path_val)\n",
    "print(df_train300[0].value_counts())\n",
    "print(df_val300[0].value_counts())"
   ]
  },
  {
   "cell_type": "code",
   "execution_count": 25,
   "metadata": {},
   "outputs": [
    {
     "data": {
      "text/html": [
       "<div>\n",
       "<style scoped>\n",
       "    .dataframe tbody tr th:only-of-type {\n",
       "        vertical-align: middle;\n",
       "    }\n",
       "\n",
       "    .dataframe tbody tr th {\n",
       "        vertical-align: top;\n",
       "    }\n",
       "\n",
       "    .dataframe thead th {\n",
       "        text-align: right;\n",
       "    }\n",
       "</style>\n",
       "<table border=\"1\" class=\"dataframe\">\n",
       "  <thead>\n",
       "    <tr style=\"text-align: right;\">\n",
       "      <th></th>\n",
       "      <th>1</th>\n",
       "      <th>2</th>\n",
       "      <th>3</th>\n",
       "      <th>4</th>\n",
       "      <th>0</th>\n",
       "    </tr>\n",
       "  </thead>\n",
       "  <tbody>\n",
       "    <tr>\n",
       "      <th>0</th>\n",
       "      <td>0.910798</td>\n",
       "      <td>0.352113</td>\n",
       "      <td>0.126761</td>\n",
       "      <td>0.169014</td>\n",
       "      <td>0.0</td>\n",
       "    </tr>\n",
       "    <tr>\n",
       "      <th>1</th>\n",
       "      <td>0.639671</td>\n",
       "      <td>0.376761</td>\n",
       "      <td>0.077465</td>\n",
       "      <td>0.096244</td>\n",
       "      <td>0.0</td>\n",
       "    </tr>\n",
       "    <tr>\n",
       "      <th>2</th>\n",
       "      <td>0.044601</td>\n",
       "      <td>0.396714</td>\n",
       "      <td>0.084507</td>\n",
       "      <td>0.107981</td>\n",
       "      <td>0.0</td>\n",
       "    </tr>\n",
       "    <tr>\n",
       "      <th>3</th>\n",
       "      <td>0.247653</td>\n",
       "      <td>0.359155</td>\n",
       "      <td>0.044601</td>\n",
       "      <td>0.070423</td>\n",
       "      <td>0.0</td>\n",
       "    </tr>\n",
       "    <tr>\n",
       "      <th>4</th>\n",
       "      <td>0.319249</td>\n",
       "      <td>0.397887</td>\n",
       "      <td>0.075117</td>\n",
       "      <td>0.072770</td>\n",
       "      <td>0.0</td>\n",
       "    </tr>\n",
       "    <tr>\n",
       "      <th>...</th>\n",
       "      <td>...</td>\n",
       "      <td>...</td>\n",
       "      <td>...</td>\n",
       "      <td>...</td>\n",
       "      <td>...</td>\n",
       "    </tr>\n",
       "    <tr>\n",
       "      <th>1738</th>\n",
       "      <td>0.559859</td>\n",
       "      <td>0.495305</td>\n",
       "      <td>0.044601</td>\n",
       "      <td>0.061033</td>\n",
       "      <td>0.0</td>\n",
       "    </tr>\n",
       "    <tr>\n",
       "      <th>1739</th>\n",
       "      <td>0.876761</td>\n",
       "      <td>0.623239</td>\n",
       "      <td>0.237089</td>\n",
       "      <td>0.392019</td>\n",
       "      <td>3.0</td>\n",
       "    </tr>\n",
       "    <tr>\n",
       "      <th>1740</th>\n",
       "      <td>0.557512</td>\n",
       "      <td>0.596244</td>\n",
       "      <td>0.096244</td>\n",
       "      <td>0.107981</td>\n",
       "      <td>3.0</td>\n",
       "    </tr>\n",
       "    <tr>\n",
       "      <th>1741</th>\n",
       "      <td>0.509367</td>\n",
       "      <td>0.793427</td>\n",
       "      <td>0.299747</td>\n",
       "      <td>0.403756</td>\n",
       "      <td>3.0</td>\n",
       "    </tr>\n",
       "    <tr>\n",
       "      <th>1742</th>\n",
       "      <td>0.461361</td>\n",
       "      <td>0.482394</td>\n",
       "      <td>0.203734</td>\n",
       "      <td>0.218310</td>\n",
       "      <td>0.0</td>\n",
       "    </tr>\n",
       "  </tbody>\n",
       "</table>\n",
       "<p>1743 rows × 5 columns</p>\n",
       "</div>"
      ],
      "text/plain": [
       "             1         2         3         4    0\n",
       "0     0.910798  0.352113  0.126761  0.169014  0.0\n",
       "1     0.639671  0.376761  0.077465  0.096244  0.0\n",
       "2     0.044601  0.396714  0.084507  0.107981  0.0\n",
       "3     0.247653  0.359155  0.044601  0.070423  0.0\n",
       "4     0.319249  0.397887  0.075117  0.072770  0.0\n",
       "...        ...       ...       ...       ...  ...\n",
       "1738  0.559859  0.495305  0.044601  0.061033  0.0\n",
       "1739  0.876761  0.623239  0.237089  0.392019  3.0\n",
       "1740  0.557512  0.596244  0.096244  0.107981  3.0\n",
       "1741  0.509367  0.793427  0.299747  0.403756  3.0\n",
       "1742  0.461361  0.482394  0.203734  0.218310  0.0\n",
       "\n",
       "[1743 rows x 5 columns]"
      ]
     },
     "execution_count": 25,
     "metadata": {},
     "output_type": "execute_result"
    }
   ],
   "source": [
    "#300 images en sus de Bertrand\n",
    "path_300images=\"C:/Users/Utilisateur/Documents/mld/5_Projets/CAS_PRATIQUE_Verificateur_Uniforme/Dataset/Coco_Format/labels_from_0_to_300/\"\n",
    "df_300images = read_labels(path_300images)\n",
    "df_300images"
   ]
  },
  {
   "cell_type": "code",
   "execution_count": 26,
   "metadata": {},
   "outputs": [
    {
     "data": {
      "text/plain": [
       "0.0    728\n",
       "3.0    714\n",
       "2.0    202\n",
       "1.0     99\n",
       "Name: 0, dtype: int64"
      ]
     },
     "execution_count": 26,
     "metadata": {},
     "output_type": "execute_result"
    }
   ],
   "source": [
    "df_300images[0].value_counts()"
   ]
  },
  {
   "cell_type": "code",
   "execution_count": 27,
   "metadata": {},
   "outputs": [],
   "source": [
    "df_300images = change_label(path_300images)"
   ]
  },
  {
   "cell_type": "code",
   "execution_count": 29,
   "metadata": {},
   "outputs": [
    {
     "data": {
      "text/html": [
       "<div>\n",
       "<style scoped>\n",
       "    .dataframe tbody tr th:only-of-type {\n",
       "        vertical-align: middle;\n",
       "    }\n",
       "\n",
       "    .dataframe tbody tr th {\n",
       "        vertical-align: top;\n",
       "    }\n",
       "\n",
       "    .dataframe thead th {\n",
       "        text-align: right;\n",
       "    }\n",
       "</style>\n",
       "<table border=\"1\" class=\"dataframe\">\n",
       "  <thead>\n",
       "    <tr style=\"text-align: right;\">\n",
       "      <th></th>\n",
       "      <th>1</th>\n",
       "      <th>2</th>\n",
       "      <th>3</th>\n",
       "      <th>4</th>\n",
       "      <th>0</th>\n",
       "    </tr>\n",
       "  </thead>\n",
       "  <tbody>\n",
       "    <tr>\n",
       "      <th>0</th>\n",
       "      <td>0.910798</td>\n",
       "      <td>0.352113</td>\n",
       "      <td>0.126761</td>\n",
       "      <td>0.169014</td>\n",
       "      <td>0.0</td>\n",
       "    </tr>\n",
       "    <tr>\n",
       "      <th>1</th>\n",
       "      <td>0.639671</td>\n",
       "      <td>0.376761</td>\n",
       "      <td>0.077465</td>\n",
       "      <td>0.096244</td>\n",
       "      <td>0.0</td>\n",
       "    </tr>\n",
       "    <tr>\n",
       "      <th>2</th>\n",
       "      <td>0.044601</td>\n",
       "      <td>0.396714</td>\n",
       "      <td>0.084507</td>\n",
       "      <td>0.107981</td>\n",
       "      <td>0.0</td>\n",
       "    </tr>\n",
       "    <tr>\n",
       "      <th>3</th>\n",
       "      <td>0.247653</td>\n",
       "      <td>0.359155</td>\n",
       "      <td>0.044601</td>\n",
       "      <td>0.070423</td>\n",
       "      <td>0.0</td>\n",
       "    </tr>\n",
       "    <tr>\n",
       "      <th>4</th>\n",
       "      <td>0.319249</td>\n",
       "      <td>0.397887</td>\n",
       "      <td>0.075117</td>\n",
       "      <td>0.072770</td>\n",
       "      <td>0.0</td>\n",
       "    </tr>\n",
       "    <tr>\n",
       "      <th>...</th>\n",
       "      <td>...</td>\n",
       "      <td>...</td>\n",
       "      <td>...</td>\n",
       "      <td>...</td>\n",
       "      <td>...</td>\n",
       "    </tr>\n",
       "    <tr>\n",
       "      <th>1738</th>\n",
       "      <td>0.559859</td>\n",
       "      <td>0.495305</td>\n",
       "      <td>0.044601</td>\n",
       "      <td>0.061033</td>\n",
       "      <td>0.0</td>\n",
       "    </tr>\n",
       "    <tr>\n",
       "      <th>1739</th>\n",
       "      <td>0.876761</td>\n",
       "      <td>0.623239</td>\n",
       "      <td>0.237089</td>\n",
       "      <td>0.392019</td>\n",
       "      <td>3.0</td>\n",
       "    </tr>\n",
       "    <tr>\n",
       "      <th>1740</th>\n",
       "      <td>0.557512</td>\n",
       "      <td>0.596244</td>\n",
       "      <td>0.096244</td>\n",
       "      <td>0.107981</td>\n",
       "      <td>3.0</td>\n",
       "    </tr>\n",
       "    <tr>\n",
       "      <th>1741</th>\n",
       "      <td>0.509367</td>\n",
       "      <td>0.793427</td>\n",
       "      <td>0.299747</td>\n",
       "      <td>0.403756</td>\n",
       "      <td>3.0</td>\n",
       "    </tr>\n",
       "    <tr>\n",
       "      <th>1742</th>\n",
       "      <td>0.461361</td>\n",
       "      <td>0.482394</td>\n",
       "      <td>0.203734</td>\n",
       "      <td>0.218310</td>\n",
       "      <td>0.0</td>\n",
       "    </tr>\n",
       "  </tbody>\n",
       "</table>\n",
       "<p>1743 rows × 5 columns</p>\n",
       "</div>"
      ],
      "text/plain": [
       "             1         2         3         4    0\n",
       "0     0.910798  0.352113  0.126761  0.169014  0.0\n",
       "1     0.639671  0.376761  0.077465  0.096244  0.0\n",
       "2     0.044601  0.396714  0.084507  0.107981  0.0\n",
       "3     0.247653  0.359155  0.044601  0.070423  0.0\n",
       "4     0.319249  0.397887  0.075117  0.072770  0.0\n",
       "...        ...       ...       ...       ...  ...\n",
       "1738  0.559859  0.495305  0.044601  0.061033  0.0\n",
       "1739  0.876761  0.623239  0.237089  0.392019  3.0\n",
       "1740  0.557512  0.596244  0.096244  0.107981  3.0\n",
       "1741  0.509367  0.793427  0.299747  0.403756  3.0\n",
       "1742  0.461361  0.482394  0.203734  0.218310  0.0\n",
       "\n",
       "[1743 rows x 5 columns]"
      ]
     },
     "execution_count": 29,
     "metadata": {},
     "output_type": "execute_result"
    }
   ],
   "source": [
    "df_300images = read_labels(path_300images)\n",
    "df_300images"
   ]
  },
  {
   "cell_type": "code",
   "execution_count": 30,
   "metadata": {},
   "outputs": [
    {
     "data": {
      "text/plain": [
       "0.0    728\n",
       "3.0    714\n",
       "1.0    202\n",
       "2.0     99\n",
       "Name: 0, dtype: int64"
      ]
     },
     "execution_count": 30,
     "metadata": {},
     "output_type": "execute_result"
    }
   ],
   "source": [
    "df_300images[0].value_counts()"
   ]
  },
  {
   "cell_type": "code",
   "execution_count": 6,
   "metadata": {},
   "outputs": [
    {
     "data": {
      "text/plain": [
       "2.0    413\n",
       "1.0    313\n",
       "0.0    195\n",
       "3.0     66\n",
       "Name: 0, dtype: int64"
      ]
     },
     "execution_count": 6,
     "metadata": {},
     "output_type": "execute_result"
    }
   ],
   "source": [
    "# Ajout en + de bertrand\n",
    "path_img1=\"C:/Users/Utilisateur/Documents/mld/5_Projets/CAS_PRATIQUE_Verificateur_Uniforme/Dataset/Coco_Format/plus_image_label/\"\n",
    "df_img1 = read_labels(path_img1)\n",
    "df_img1[0].value_counts()"
   ]
  },
  {
   "cell_type": "code",
   "execution_count": 9,
   "metadata": {},
   "outputs": [
    {
     "data": {
      "text/plain": [
       "1.0    344\n",
       "2.0    292\n",
       "3.0    107\n",
       "0.0     57\n",
       "Name: 0, dtype: int64"
      ]
     },
     "execution_count": 9,
     "metadata": {},
     "output_type": "execute_result"
    }
   ],
   "source": [
    "# Ajout en + de bertrand\n",
    "path_img1=\"C:/Users/Utilisateur/Documents/mld/5_Projets/CAS_PRATIQUE_Verificateur_Uniforme/Dataset/Coco_Format/plus_image_label/\"\n",
    "df_img1 = read_labels(path_img1)\n",
    "df_img1[0].value_counts()"
   ]
  },
  {
   "cell_type": "code",
   "execution_count": 8,
   "metadata": {},
   "outputs": [
    {
     "data": {
      "text/plain": [
       "(0.0    897\n",
       " 3.0    705\n",
       " 2.0    494\n",
       " 1.0    413\n",
       " Name: 0, dtype: int64,\n",
       " 3.0    220\n",
       " 0.0    200\n",
       " 1.0    187\n",
       " 2.0    125\n",
       " Name: 0, dtype: int64)"
      ]
     },
     "execution_count": 8,
     "metadata": {},
     "output_type": "execute_result"
    }
   ],
   "source": [
    "# DATASET\n",
    "path_train=\"C:/Users/Utilisateur/Documents/mld/5_Projets/CAS_PRATIQUE_Verificateur_Uniforme/Dataset/Coco_Format/labels/train/\"\n",
    "path_val=\"C:/Users/Utilisateur/Documents/mld/5_Projets/CAS_PRATIQUE_Verificateur_Uniforme/Dataset/Coco_Format/labels/val/\"\n",
    "df1 = read_labels(path_train)\n",
    "df2 = read_labels(path_val)\n",
    "df1[0].value_counts(), df2[0].value_counts()\n"
   ]
  },
  {
   "cell_type": "code",
   "execution_count": 10,
   "metadata": {},
   "outputs": [
    {
     "data": {
      "text/plain": [
       "(0.0    946\n",
       " 3.0    781\n",
       " 2.0    723\n",
       " 1.0    681\n",
       " Name: 0, dtype: int64,\n",
       " 1.0    263\n",
       " 3.0    251\n",
       " 0.0    208\n",
       " 2.0    188\n",
       " Name: 0, dtype: int64)"
      ]
     },
     "execution_count": 10,
     "metadata": {},
     "output_type": "execute_result"
    }
   ],
   "source": [
    "# DATASET\n",
    "path_train=\"C:/Users/Utilisateur/Documents/mld/5_Projets/CAS_PRATIQUE_Verificateur_Uniforme/Dataset/Coco_Format/labels/train/\"\n",
    "path_val=\"C:/Users/Utilisateur/Documents/mld/5_Projets/CAS_PRATIQUE_Verificateur_Uniforme/Dataset/Coco_Format/labels/val/\"\n",
    "df1 = read_labels(path_train)\n",
    "df2 = read_labels(path_val)\n",
    "df1[0].value_counts(), df2[0].value_counts()\n"
   ]
  },
  {
   "cell_type": "code",
   "execution_count": 170,
   "metadata": {},
   "outputs": [
    {
     "data": {
      "text/html": [
       "<div>\n",
       "<style scoped>\n",
       "    .dataframe tbody tr th:only-of-type {\n",
       "        vertical-align: middle;\n",
       "    }\n",
       "\n",
       "    .dataframe tbody tr th {\n",
       "        vertical-align: top;\n",
       "    }\n",
       "\n",
       "    .dataframe thead th {\n",
       "        text-align: right;\n",
       "    }\n",
       "</style>\n",
       "<table border=\"1\" class=\"dataframe\">\n",
       "  <thead>\n",
       "    <tr style=\"text-align: right;\">\n",
       "      <th></th>\n",
       "      <th>casque</th>\n",
       "      <th>no_casque</th>\n",
       "      <th>gilet</th>\n",
       "      <th>no_gilet</th>\n",
       "    </tr>\n",
       "  </thead>\n",
       "  <tbody>\n",
       "    <tr>\n",
       "      <th>train</th>\n",
       "      <td>946</td>\n",
       "      <td>681</td>\n",
       "      <td>723</td>\n",
       "      <td>781</td>\n",
       "    </tr>\n",
       "    <tr>\n",
       "      <th>val</th>\n",
       "      <td>208</td>\n",
       "      <td>263</td>\n",
       "      <td>188</td>\n",
       "      <td>251</td>\n",
       "    </tr>\n",
       "  </tbody>\n",
       "</table>\n",
       "</div>"
      ],
      "text/plain": [
       "       casque  no_casque  gilet  no_gilet\n",
       "train     946        681    723       781\n",
       "val       208        263    188       251"
      ]
     },
     "execution_count": 170,
     "metadata": {},
     "output_type": "execute_result"
    }
   ],
   "source": [
    "index = ['train','val']\n",
    "columns = ['casque','no_casque','gilet','no_gilet',]\n",
    "data = np.array([[946,681,723,781],\n",
    "                 [208,263,188,251],])\n",
    "df = pd.DataFrame(data=data,index=index,columns=columns)\n",
    "df"
   ]
  },
  {
   "cell_type": "code",
   "execution_count": 176,
   "metadata": {},
   "outputs": [
    {
     "data": {
      "text/plain": [
       "train    3131\n",
       "val       910\n",
       "dtype: int64"
      ]
     },
     "execution_count": 176,
     "metadata": {},
     "output_type": "execute_result"
    }
   ],
   "source": [
    "df.sum(axis=1)"
   ]
  },
  {
   "cell_type": "code",
   "execution_count": 171,
   "metadata": {},
   "outputs": [
    {
     "data": {
      "image/png": "[encoded data removed]",
      "text/plain": [
       "<Figure size 640x480 with 1 Axes>"
      ]
     },
     "metadata": {},
     "output_type": "display_data"
    }
   ],
   "source": [
    "ax = df.plot(kind='bar', ) # figsize=(10, 6))\n",
    "#ax.grid('off', which='major', axis='x' )\n",
    "#ax.grid('off', which='major', axis='y' )\n",
    "ax.set_xlabel(\"modèles YOLOv5_Batch\")\n",
    "ax.grid('off', which='major', axis='y' )"
   ]
  },
  {
   "cell_type": "code",
   "execution_count": null,
   "metadata": {},
   "outputs": [],
   "source": []
  },
  {
   "cell_type": "markdown",
   "metadata": {},
   "source": [
    "# Analyse des résultats des entraintements sur 300 epoch"
   ]
  },
  {
   "cell_type": "code",
   "execution_count": 27,
   "metadata": {},
   "outputs": [],
   "source": [
    "path_result = \"../Models/data_aug_low/\""
   ]
  },
  {
   "cell_type": "code",
   "execution_count": 74,
   "metadata": {},
   "outputs": [
    {
     "data": {
      "text/html": [
       "<div>\n",
       "<style scoped>\n",
       "    .dataframe tbody tr th:only-of-type {\n",
       "        vertical-align: middle;\n",
       "    }\n",
       "\n",
       "    .dataframe tbody tr th {\n",
       "        vertical-align: top;\n",
       "    }\n",
       "\n",
       "    .dataframe thead th {\n",
       "        text-align: right;\n",
       "    }\n",
       "</style>\n",
       "<table border=\"1\" class=\"dataframe\">\n",
       "  <thead>\n",
       "    <tr style=\"text-align: right;\">\n",
       "      <th></th>\n",
       "      <th>train/box_loss</th>\n",
       "      <th>train/obj_loss</th>\n",
       "      <th>train/cls_loss</th>\n",
       "      <th>metrics/precision</th>\n",
       "      <th>metrics/recall</th>\n",
       "      <th>metrics/mAP_0.5</th>\n",
       "      <th>metrics/mAP_0.5:0.95</th>\n",
       "      <th>val/box_loss</th>\n",
       "      <th>val/obj_loss</th>\n",
       "      <th>val/cls_loss</th>\n",
       "      <th>x/lr0</th>\n",
       "      <th>x/lr1</th>\n",
       "      <th>x/lr2</th>\n",
       "    </tr>\n",
       "    <tr>\n",
       "      <th>epoch</th>\n",
       "      <th></th>\n",
       "      <th></th>\n",
       "      <th></th>\n",
       "      <th></th>\n",
       "      <th></th>\n",
       "      <th></th>\n",
       "      <th></th>\n",
       "      <th></th>\n",
       "      <th></th>\n",
       "      <th></th>\n",
       "      <th></th>\n",
       "      <th></th>\n",
       "      <th></th>\n",
       "    </tr>\n",
       "  </thead>\n",
       "  <tbody>\n",
       "    <tr>\n",
       "      <th>0</th>\n",
       "      <td>0.088339</td>\n",
       "      <td>0.075177</td>\n",
       "      <td>0.042591</td>\n",
       "      <td>0.18254</td>\n",
       "      <td>0.42066</td>\n",
       "      <td>0.19916</td>\n",
       "      <td>0.059424</td>\n",
       "      <td>0.060308</td>\n",
       "      <td>0.059700</td>\n",
       "      <td>0.035336</td>\n",
       "      <td>0.070732</td>\n",
       "      <td>0.003252</td>\n",
       "      <td>0.003252</td>\n",
       "    </tr>\n",
       "    <tr>\n",
       "      <th>1</th>\n",
       "      <td>0.070174</td>\n",
       "      <td>0.060546</td>\n",
       "      <td>0.033674</td>\n",
       "      <td>0.18595</td>\n",
       "      <td>0.44349</td>\n",
       "      <td>0.19238</td>\n",
       "      <td>0.065144</td>\n",
       "      <td>0.062150</td>\n",
       "      <td>0.035792</td>\n",
       "      <td>0.028098</td>\n",
       "      <td>0.040710</td>\n",
       "      <td>0.006564</td>\n",
       "      <td>0.006564</td>\n",
       "    </tr>\n",
       "    <tr>\n",
       "      <th>2</th>\n",
       "      <td>0.069611</td>\n",
       "      <td>0.047607</td>\n",
       "      <td>0.029223</td>\n",
       "      <td>0.28621</td>\n",
       "      <td>0.63583</td>\n",
       "      <td>0.36383</td>\n",
       "      <td>0.138590</td>\n",
       "      <td>0.056266</td>\n",
       "      <td>0.030556</td>\n",
       "      <td>0.025314</td>\n",
       "      <td>0.010666</td>\n",
       "      <td>0.009853</td>\n",
       "      <td>0.009853</td>\n",
       "    </tr>\n",
       "    <tr>\n",
       "      <th>3</th>\n",
       "      <td>0.061605</td>\n",
       "      <td>0.046974</td>\n",
       "      <td>0.025260</td>\n",
       "      <td>0.41919</td>\n",
       "      <td>0.50981</td>\n",
       "      <td>0.39105</td>\n",
       "      <td>0.137930</td>\n",
       "      <td>0.055229</td>\n",
       "      <td>0.032399</td>\n",
       "      <td>0.018659</td>\n",
       "      <td>0.009901</td>\n",
       "      <td>0.009901</td>\n",
       "      <td>0.009901</td>\n",
       "    </tr>\n",
       "    <tr>\n",
       "      <th>4</th>\n",
       "      <td>0.054671</td>\n",
       "      <td>0.044743</td>\n",
       "      <td>0.018223</td>\n",
       "      <td>0.48688</td>\n",
       "      <td>0.75907</td>\n",
       "      <td>0.59647</td>\n",
       "      <td>0.230100</td>\n",
       "      <td>0.045603</td>\n",
       "      <td>0.029969</td>\n",
       "      <td>0.012781</td>\n",
       "      <td>0.009901</td>\n",
       "      <td>0.009901</td>\n",
       "      <td>0.009901</td>\n",
       "    </tr>\n",
       "    <tr>\n",
       "      <th>...</th>\n",
       "      <td>...</td>\n",
       "      <td>...</td>\n",
       "      <td>...</td>\n",
       "      <td>...</td>\n",
       "      <td>...</td>\n",
       "      <td>...</td>\n",
       "      <td>...</td>\n",
       "      <td>...</td>\n",
       "      <td>...</td>\n",
       "      <td>...</td>\n",
       "      <td>...</td>\n",
       "      <td>...</td>\n",
       "      <td>...</td>\n",
       "    </tr>\n",
       "    <tr>\n",
       "      <th>295</th>\n",
       "      <td>0.008401</td>\n",
       "      <td>0.012862</td>\n",
       "      <td>0.000431</td>\n",
       "      <td>0.89386</td>\n",
       "      <td>0.83531</td>\n",
       "      <td>0.87534</td>\n",
       "      <td>0.584960</td>\n",
       "      <td>0.028053</td>\n",
       "      <td>0.044291</td>\n",
       "      <td>0.010101</td>\n",
       "      <td>0.000298</td>\n",
       "      <td>0.000298</td>\n",
       "      <td>0.000298</td>\n",
       "    </tr>\n",
       "    <tr>\n",
       "      <th>296</th>\n",
       "      <td>0.008439</td>\n",
       "      <td>0.013193</td>\n",
       "      <td>0.000447</td>\n",
       "      <td>0.89619</td>\n",
       "      <td>0.83216</td>\n",
       "      <td>0.87520</td>\n",
       "      <td>0.584380</td>\n",
       "      <td>0.028043</td>\n",
       "      <td>0.044353</td>\n",
       "      <td>0.010045</td>\n",
       "      <td>0.000265</td>\n",
       "      <td>0.000265</td>\n",
       "      <td>0.000265</td>\n",
       "    </tr>\n",
       "    <tr>\n",
       "      <th>297</th>\n",
       "      <td>0.008655</td>\n",
       "      <td>0.014138</td>\n",
       "      <td>0.000452</td>\n",
       "      <td>0.88149</td>\n",
       "      <td>0.84210</td>\n",
       "      <td>0.87698</td>\n",
       "      <td>0.586000</td>\n",
       "      <td>0.028017</td>\n",
       "      <td>0.044374</td>\n",
       "      <td>0.009947</td>\n",
       "      <td>0.000232</td>\n",
       "      <td>0.000232</td>\n",
       "      <td>0.000232</td>\n",
       "    </tr>\n",
       "    <tr>\n",
       "      <th>298</th>\n",
       "      <td>0.008890</td>\n",
       "      <td>0.012896</td>\n",
       "      <td>0.000562</td>\n",
       "      <td>0.88909</td>\n",
       "      <td>0.84146</td>\n",
       "      <td>0.87748</td>\n",
       "      <td>0.586550</td>\n",
       "      <td>0.027940</td>\n",
       "      <td>0.044215</td>\n",
       "      <td>0.010013</td>\n",
       "      <td>0.000199</td>\n",
       "      <td>0.000199</td>\n",
       "      <td>0.000199</td>\n",
       "    </tr>\n",
       "    <tr>\n",
       "      <th>299</th>\n",
       "      <td>0.008688</td>\n",
       "      <td>0.013172</td>\n",
       "      <td>0.000422</td>\n",
       "      <td>0.88261</td>\n",
       "      <td>0.84298</td>\n",
       "      <td>0.87676</td>\n",
       "      <td>0.587280</td>\n",
       "      <td>0.027963</td>\n",
       "      <td>0.044308</td>\n",
       "      <td>0.010066</td>\n",
       "      <td>0.000166</td>\n",
       "      <td>0.000166</td>\n",
       "      <td>0.000166</td>\n",
       "    </tr>\n",
       "  </tbody>\n",
       "</table>\n",
       "<p>300 rows × 13 columns</p>\n",
       "</div>"
      ],
      "text/plain": [
       "                            train/box_loss        train/obj_loss  \\\n",
       "               epoch                                               \n",
       "0                                 0.088339              0.075177   \n",
       "1                                 0.070174              0.060546   \n",
       "2                                 0.069611              0.047607   \n",
       "3                                 0.061605              0.046974   \n",
       "4                                 0.054671              0.044743   \n",
       "...                                    ...                   ...   \n",
       "295                               0.008401              0.012862   \n",
       "296                               0.008439              0.013193   \n",
       "297                               0.008655              0.014138   \n",
       "298                               0.008890              0.012896   \n",
       "299                               0.008688              0.013172   \n",
       "\n",
       "                            train/cls_loss     metrics/precision  \\\n",
       "               epoch                                               \n",
       "0                                 0.042591               0.18254   \n",
       "1                                 0.033674               0.18595   \n",
       "2                                 0.029223               0.28621   \n",
       "3                                 0.025260               0.41919   \n",
       "4                                 0.018223               0.48688   \n",
       "...                                    ...                   ...   \n",
       "295                               0.000431               0.89386   \n",
       "296                               0.000447               0.89619   \n",
       "297                               0.000452               0.88149   \n",
       "298                               0.000562               0.88909   \n",
       "299                               0.000422               0.88261   \n",
       "\n",
       "                            metrics/recall       metrics/mAP_0.5  \\\n",
       "               epoch                                               \n",
       "0                                  0.42066               0.19916   \n",
       "1                                  0.44349               0.19238   \n",
       "2                                  0.63583               0.36383   \n",
       "3                                  0.50981               0.39105   \n",
       "4                                  0.75907               0.59647   \n",
       "...                                    ...                   ...   \n",
       "295                                0.83531               0.87534   \n",
       "296                                0.83216               0.87520   \n",
       "297                                0.84210               0.87698   \n",
       "298                                0.84146               0.87748   \n",
       "299                                0.84298               0.87676   \n",
       "\n",
       "                      metrics/mAP_0.5:0.95          val/box_loss  \\\n",
       "               epoch                                               \n",
       "0                                 0.059424              0.060308   \n",
       "1                                 0.065144              0.062150   \n",
       "2                                 0.138590              0.056266   \n",
       "3                                 0.137930              0.055229   \n",
       "4                                 0.230100              0.045603   \n",
       "...                                    ...                   ...   \n",
       "295                               0.584960              0.028053   \n",
       "296                               0.584380              0.028043   \n",
       "297                               0.586000              0.028017   \n",
       "298                               0.586550              0.027940   \n",
       "299                               0.587280              0.027963   \n",
       "\n",
       "                              val/obj_loss          val/cls_loss  \\\n",
       "               epoch                                               \n",
       "0                                 0.059700              0.035336   \n",
       "1                                 0.035792              0.028098   \n",
       "2                                 0.030556              0.025314   \n",
       "3                                 0.032399              0.018659   \n",
       "4                                 0.029969              0.012781   \n",
       "...                                    ...                   ...   \n",
       "295                               0.044291              0.010101   \n",
       "296                               0.044353              0.010045   \n",
       "297                               0.044374              0.009947   \n",
       "298                               0.044215              0.010013   \n",
       "299                               0.044308              0.010066   \n",
       "\n",
       "                                     x/lr0                 x/lr1  \\\n",
       "               epoch                                               \n",
       "0                                 0.070732              0.003252   \n",
       "1                                 0.040710              0.006564   \n",
       "2                                 0.010666              0.009853   \n",
       "3                                 0.009901              0.009901   \n",
       "4                                 0.009901              0.009901   \n",
       "...                                    ...                   ...   \n",
       "295                               0.000298              0.000298   \n",
       "296                               0.000265              0.000265   \n",
       "297                               0.000232              0.000232   \n",
       "298                               0.000199              0.000199   \n",
       "299                               0.000166              0.000166   \n",
       "\n",
       "                                     x/lr2  \n",
       "               epoch                        \n",
       "0                                 0.003252  \n",
       "1                                 0.006564  \n",
       "2                                 0.009853  \n",
       "3                                 0.009901  \n",
       "4                                 0.009901  \n",
       "...                                    ...  \n",
       "295                               0.000298  \n",
       "296                               0.000265  \n",
       "297                               0.000232  \n",
       "298                               0.000199  \n",
       "299                               0.000166  \n",
       "\n",
       "[300 rows x 13 columns]"
      ]
     },
     "execution_count": 74,
     "metadata": {},
     "output_type": "execute_result"
    }
   ],
   "source": [
    "d = \"../Models/data_aug_low/mod_yolov5l/mod_yolov5l_b16_e300/results.csv\"\n",
    "pd.read_csv((d), sep=\",\", index_col=0)"
   ]
  },
  {
   "cell_type": "code",
   "execution_count": 192,
   "metadata": {},
   "outputs": [
    {
     "name": "stdout",
     "output_type": "stream",
     "text": [
      "['df_mod_yolov5l_b16_e300', 'df_mod_yolov5l_b8_e300', 'df_mod_yolov5m_b16_e300', 'df_mod_yolov5m_b32_e300', 'df_mod_yolov5m_b8_e300', 'df_mod_yolov5s_b16_e300', 'df_mod_yolov5s_b32_e300', 'df_mod_yolov5s_b64_e300', 'df_mod_yolov5s_b8_e300', 'df_mod_yolov5x_b16_e230', 'df_mod_yolov5x_b8_e240']\n",
      "[0.89528, 0.89425, 0.89394, 0.88871, 0.89331, 0.88046, 0.87407, 0.87152, 0.87556, 0.90003, 0.89639]\n",
      "[0.89111, 0.89091, 0.89007, 0.88275, 0.8894, 0.87533, 0.87252, 0.86357, 0.8735, 0.89073, 0.88988]\n"
     ]
    }
   ],
   "source": [
    "list_df = []\n",
    "list_max = []\n",
    "list_epoch = []\n",
    "list_moy5max = []\n",
    "\n",
    "for N1 in os.listdir(path_result):\n",
    "    dir_N1 = join(path_result, N1)\n",
    "    if os.path.isdir(dir_N1):\n",
    "        for N2 in os.listdir(dir_N1):\n",
    "            try:\n",
    "                df = pd.read_csv((join(dir_N1, N2, 'results.csv')), sep=\",\", index_col=0)\n",
    "                df.columns = df.columns.str.replace('/', '_').str.replace('.', '_').str.replace(':', '_').str.replace(' ', '')\n",
    "                globals()['df_%s' % N2] = df\n",
    "                list_df.append(f'df_{N2}')\n",
    "                val_max = df['metrics_mAP_0_5'].max()\n",
    "                list_max.append(val_max) \n",
    "                epoch = df['metrics_mAP_0_5'].idxmax()+1\n",
    "                list_epoch.append(epoch)\n",
    "                moy_5max = df['metrics_mAP_0_5'].sort_values(ascending=False).head(5).mean().round(5)\n",
    "                list_moy5max.append(moy_5max)\n",
    "\n",
    "            except:\n",
    "                continue  \n",
    "\n",
    "print(list_df)\n",
    "print(list_max)\n",
    "print(list_moy5max)\n",
    "# print(f'df_{N2}',': metrix max =' ,val_max, \", epoch =\",f\"{df['metrics_mAP_0_5'].idxmax()+1}e\")"
   ]
  },
  {
   "cell_type": "code",
   "execution_count": 196,
   "metadata": {},
   "outputs": [
    {
     "name": "stdout",
     "output_type": "stream",
     "text": [
      "index 9,df_mod_yolov5x_b16_e230: val max =0.90003, moyenne des 5 max=0.89073, epoch =10e\n",
      "index 10,df_mod_yolov5x_b8_e240: val max =0.89639, moyenne des 5 max=0.88988, epoch =17e\n",
      "index 0,df_mod_yolov5l_b16_e300: val max =0.89528, moyenne des 5 max=0.89111, epoch =29e\n",
      "index 1,df_mod_yolov5l_b8_e300: val max =0.89425, moyenne des 5 max=0.89091, epoch =54e\n",
      "index 2,df_mod_yolov5m_b16_e300: val max =0.89394, moyenne des 5 max=0.89007, epoch =74e\n",
      "index 4,df_mod_yolov5m_b8_e300: val max =0.89331, moyenne des 5 max=0.8894, epoch =34e\n",
      "index 3,df_mod_yolov5m_b32_e300: val max =0.88871, moyenne des 5 max=0.88275, epoch =56e\n",
      "index 5,df_mod_yolov5s_b16_e300: val max =0.88046, moyenne des 5 max=0.87533, epoch =18e\n",
      "index 8,df_mod_yolov5s_b8_e300: val max =0.87556, moyenne des 5 max=0.8735, epoch =61e\n",
      "index 6,df_mod_yolov5s_b32_e300: val max =0.87407, moyenne des 5 max=0.87252, epoch =48e\n",
      "index 7,df_mod_yolov5s_b64_e300: val max =0.87152, moyenne des 5 max=0.86357, epoch =34e\n"
     ]
    }
   ],
   "source": [
    "sort_val = np.argsort(-np.array(list_max))\n",
    "\n",
    "for i in sort_val:\n",
    "    # print(i)\n",
    "    print(f\"index {i},{list_df[i]}: val max ={list_max[i]}, moyenne des 5 max={list_moy5max[i]}, epoch ={list_epoch[i]}e\")\n"
   ]
  },
  {
   "cell_type": "code",
   "execution_count": 194,
   "metadata": {},
   "outputs": [
    {
     "data": {
      "text/plain": [
       "array([ 9, 10,  0,  1,  2,  4,  3,  5,  8,  6,  7], dtype=int64)"
      ]
     },
     "execution_count": 194,
     "metadata": {},
     "output_type": "execute_result"
    }
   ],
   "source": [
    "np.argsort(-np.array(list_max))"
   ]
  },
  {
   "cell_type": "code",
   "execution_count": 158,
   "metadata": {},
   "outputs": [
    {
     "data": {
      "text/plain": [
       "               epoch\n",
       "28    0.89528\n",
       "22    0.89164\n",
       "52    0.89141\n",
       "11    0.88934\n",
       "23    0.88790\n",
       "Name: metrics_mAP_0_5, dtype: float64"
      ]
     },
     "execution_count": 158,
     "metadata": {},
     "output_type": "execute_result"
    }
   ],
   "source": [
    "df_mod_yolov5l_b16_e300['metrics_mAP_0_5'].sort_values(ascending=False).head(5)"
   ]
  },
  {
   "cell_type": "code",
   "execution_count": 159,
   "metadata": {},
   "outputs": [
    {
     "data": {
      "text/plain": [
       "               epoch\n",
       "53    0.89425\n",
       "51    0.89126\n",
       "16    0.89124\n",
       "52    0.89005\n",
       "28    0.88777\n",
       "Name: metrics_mAP_0_5, dtype: float64"
      ]
     },
     "execution_count": 159,
     "metadata": {},
     "output_type": "execute_result"
    }
   ],
   "source": [
    "df_mod_yolov5l_b8_e300['metrics_mAP_0_5'].sort_values(ascending=False).head(5)"
   ]
  },
  {
   "cell_type": "code",
   "execution_count": 160,
   "metadata": {},
   "outputs": [
    {
     "data": {
      "text/plain": [
       "               epoch\n",
       "73    0.89394\n",
       "79    0.89020\n",
       "75    0.88904\n",
       "28    0.88872\n",
       "17    0.88846\n",
       "Name: metrics_mAP_0_5, dtype: float64"
      ]
     },
     "execution_count": 160,
     "metadata": {},
     "output_type": "execute_result"
    }
   ],
   "source": [
    "df_mod_yolov5m_b16_e300['metrics_mAP_0_5'].sort_values(ascending=False).head(5)"
   ]
  },
  {
   "cell_type": "code",
   "execution_count": 161,
   "metadata": {},
   "outputs": [
    {
     "data": {
      "text/plain": [
       "               epoch\n",
       "55    0.88871\n",
       "33    0.88192\n",
       "66    0.88157\n",
       "23    0.88138\n",
       "39    0.88017\n",
       "Name: metrics_mAP_0_5, dtype: float64"
      ]
     },
     "execution_count": 161,
     "metadata": {},
     "output_type": "execute_result"
    }
   ],
   "source": [
    "df_mod_yolov5m_b32_e300['metrics_mAP_0_5'].sort_values(ascending=False).head(5)"
   ]
  },
  {
   "cell_type": "code",
   "execution_count": 162,
   "metadata": {},
   "outputs": [
    {
     "data": {
      "text/plain": [
       "               epoch\n",
       "33    0.89331\n",
       "23    0.89157\n",
       "16    0.89136\n",
       "12    0.88636\n",
       "52    0.88441\n",
       "Name: metrics_mAP_0_5, dtype: float64"
      ]
     },
     "execution_count": 162,
     "metadata": {},
     "output_type": "execute_result"
    }
   ],
   "source": [
    "df_mod_yolov5m_b8_e300['metrics_mAP_0_5'].sort_values(ascending=False).head(5)"
   ]
  },
  {
   "cell_type": "code",
   "execution_count": 163,
   "metadata": {},
   "outputs": [
    {
     "data": {
      "text/plain": [
       "               epoch\n",
       "17     0.88046\n",
       "37     0.87809\n",
       "42     0.87345\n",
       "28     0.87243\n",
       "100    0.87220\n",
       "Name: metrics_mAP_0_5, dtype: float64"
      ]
     },
     "execution_count": 163,
     "metadata": {},
     "output_type": "execute_result"
    }
   ],
   "source": [
    "df_mod_yolov5s_b16_e300['metrics_mAP_0_5'].sort_values(ascending=False).head(5)"
   ]
  },
  {
   "cell_type": "code",
   "execution_count": 164,
   "metadata": {},
   "outputs": [
    {
     "data": {
      "text/plain": [
       "               epoch\n",
       "47     0.87407\n",
       "135    0.87324\n",
       "74     0.87208\n",
       "64     0.87168\n",
       "65     0.87152\n",
       "Name: metrics_mAP_0_5, dtype: float64"
      ]
     },
     "execution_count": 164,
     "metadata": {},
     "output_type": "execute_result"
    }
   ],
   "source": [
    "df_mod_yolov5s_b32_e300['metrics_mAP_0_5'].sort_values(ascending=False).head(5)"
   ]
  },
  {
   "cell_type": "code",
   "execution_count": 165,
   "metadata": {},
   "outputs": [
    {
     "data": {
      "text/plain": [
       "               epoch\n",
       "33     0.87152\n",
       "56     0.86497\n",
       "146    0.86189\n",
       "122    0.85997\n",
       "118    0.85951\n",
       "Name: metrics_mAP_0_5, dtype: float64"
      ]
     },
     "execution_count": 165,
     "metadata": {},
     "output_type": "execute_result"
    }
   ],
   "source": [
    "df_mod_yolov5s_b64_e300['metrics_mAP_0_5'].sort_values(ascending=False).head(5)"
   ]
  },
  {
   "cell_type": "code",
   "execution_count": 166,
   "metadata": {},
   "outputs": [
    {
     "data": {
      "text/plain": [
       "               epoch\n",
       "60     0.87556\n",
       "35     0.87526\n",
       "155    0.87316\n",
       "30     0.87216\n",
       "197    0.87137\n",
       "Name: metrics_mAP_0_5, dtype: float64"
      ]
     },
     "execution_count": 166,
     "metadata": {},
     "output_type": "execute_result"
    }
   ],
   "source": [
    "df_mod_yolov5s_b8_e300['metrics_mAP_0_5'].sort_values(ascending=False).head(5)"
   ]
  },
  {
   "cell_type": "code",
   "execution_count": 167,
   "metadata": {},
   "outputs": [
    {
     "data": {
      "text/plain": [
       "               epoch\n",
       "9     0.90003\n",
       "14    0.88957\n",
       "30    0.88854\n",
       "16    0.88807\n",
       "24    0.88745\n",
       "Name: metrics_mAP_0_5, dtype: float64"
      ]
     },
     "execution_count": 167,
     "metadata": {},
     "output_type": "execute_result"
    }
   ],
   "source": [
    "df_mod_yolov5x_b16_e230['metrics_mAP_0_5'].sort_values(ascending=False).head(5)"
   ]
  },
  {
   "cell_type": "code",
   "execution_count": 168,
   "metadata": {},
   "outputs": [
    {
     "data": {
      "text/plain": [
       "               epoch\n",
       "16    0.89639\n",
       "9     0.89001\n",
       "72    0.88788\n",
       "38    0.88778\n",
       "78    0.88732\n",
       "Name: metrics_mAP_0_5, dtype: float64"
      ]
     },
     "execution_count": 168,
     "metadata": {},
     "output_type": "execute_result"
    }
   ],
   "source": [
    "df_mod_yolov5x_b8_e240['metrics_mAP_0_5'].sort_values(ascending=False).head(5)"
   ]
  },
  {
   "cell_type": "code",
   "execution_count": 169,
   "metadata": {},
   "outputs": [
    {
     "data": {
      "text/html": [
       "<div>\n",
       "<style scoped>\n",
       "    .dataframe tbody tr th:only-of-type {\n",
       "        vertical-align: middle;\n",
       "    }\n",
       "\n",
       "    .dataframe tbody tr th {\n",
       "        vertical-align: top;\n",
       "    }\n",
       "\n",
       "    .dataframe thead th {\n",
       "        text-align: right;\n",
       "    }\n",
       "</style>\n",
       "<table border=\"1\" class=\"dataframe\">\n",
       "  <thead>\n",
       "    <tr style=\"text-align: right;\">\n",
       "      <th></th>\n",
       "      <th>train_box_loss</th>\n",
       "      <th>train_obj_loss</th>\n",
       "      <th>train_cls_loss</th>\n",
       "      <th>metrics_precision</th>\n",
       "      <th>metrics_recall</th>\n",
       "      <th>metrics_mAP_0_5</th>\n",
       "      <th>metrics_mAP_0_5_0_95</th>\n",
       "      <th>val_box_loss</th>\n",
       "      <th>val_obj_loss</th>\n",
       "      <th>val_cls_loss</th>\n",
       "      <th>x_lr0</th>\n",
       "      <th>x_lr1</th>\n",
       "      <th>x_lr2</th>\n",
       "    </tr>\n",
       "    <tr>\n",
       "      <th>epoch</th>\n",
       "      <th></th>\n",
       "      <th></th>\n",
       "      <th></th>\n",
       "      <th></th>\n",
       "      <th></th>\n",
       "      <th></th>\n",
       "      <th></th>\n",
       "      <th></th>\n",
       "      <th></th>\n",
       "      <th></th>\n",
       "      <th></th>\n",
       "      <th></th>\n",
       "      <th></th>\n",
       "    </tr>\n",
       "  </thead>\n",
       "  <tbody>\n",
       "    <tr>\n",
       "      <th>0</th>\n",
       "      <td>0.088488</td>\n",
       "      <td>0.073786</td>\n",
       "      <td>0.041819</td>\n",
       "      <td>0.24124</td>\n",
       "      <td>0.35700</td>\n",
       "      <td>0.22427</td>\n",
       "      <td>0.070107</td>\n",
       "      <td>0.060218</td>\n",
       "      <td>0.052543</td>\n",
       "      <td>0.034701</td>\n",
       "      <td>0.070370</td>\n",
       "      <td>0.003292</td>\n",
       "      <td>0.003292</td>\n",
       "    </tr>\n",
       "    <tr>\n",
       "      <th>1</th>\n",
       "      <td>0.069510</td>\n",
       "      <td>0.060215</td>\n",
       "      <td>0.031332</td>\n",
       "      <td>0.28280</td>\n",
       "      <td>0.40615</td>\n",
       "      <td>0.24357</td>\n",
       "      <td>0.084977</td>\n",
       "      <td>0.067536</td>\n",
       "      <td>0.035215</td>\n",
       "      <td>0.027052</td>\n",
       "      <td>0.040343</td>\n",
       "      <td>0.006598</td>\n",
       "      <td>0.006598</td>\n",
       "    </tr>\n",
       "    <tr>\n",
       "      <th>2</th>\n",
       "      <td>0.068285</td>\n",
       "      <td>0.047291</td>\n",
       "      <td>0.024479</td>\n",
       "      <td>0.57804</td>\n",
       "      <td>0.43923</td>\n",
       "      <td>0.42266</td>\n",
       "      <td>0.167760</td>\n",
       "      <td>0.058065</td>\n",
       "      <td>0.033982</td>\n",
       "      <td>0.020372</td>\n",
       "      <td>0.010288</td>\n",
       "      <td>0.009877</td>\n",
       "      <td>0.009877</td>\n",
       "    </tr>\n",
       "    <tr>\n",
       "      <th>3</th>\n",
       "      <td>0.062957</td>\n",
       "      <td>0.045690</td>\n",
       "      <td>0.018048</td>\n",
       "      <td>0.37318</td>\n",
       "      <td>0.71259</td>\n",
       "      <td>0.54135</td>\n",
       "      <td>0.213580</td>\n",
       "      <td>0.057538</td>\n",
       "      <td>0.032759</td>\n",
       "      <td>0.013551</td>\n",
       "      <td>0.009876</td>\n",
       "      <td>0.009876</td>\n",
       "      <td>0.009876</td>\n",
       "    </tr>\n",
       "    <tr>\n",
       "      <th>4</th>\n",
       "      <td>0.056278</td>\n",
       "      <td>0.044489</td>\n",
       "      <td>0.012538</td>\n",
       "      <td>0.56508</td>\n",
       "      <td>0.78258</td>\n",
       "      <td>0.73814</td>\n",
       "      <td>0.364550</td>\n",
       "      <td>0.044993</td>\n",
       "      <td>0.031504</td>\n",
       "      <td>0.010565</td>\n",
       "      <td>0.009876</td>\n",
       "      <td>0.009876</td>\n",
       "      <td>0.009876</td>\n",
       "    </tr>\n",
       "    <tr>\n",
       "      <th>...</th>\n",
       "      <td>...</td>\n",
       "      <td>...</td>\n",
       "      <td>...</td>\n",
       "      <td>...</td>\n",
       "      <td>...</td>\n",
       "      <td>...</td>\n",
       "      <td>...</td>\n",
       "      <td>...</td>\n",
       "      <td>...</td>\n",
       "      <td>...</td>\n",
       "      <td>...</td>\n",
       "      <td>...</td>\n",
       "      <td>...</td>\n",
       "    </tr>\n",
       "    <tr>\n",
       "      <th>235</th>\n",
       "      <td>0.009163</td>\n",
       "      <td>0.013687</td>\n",
       "      <td>0.000558</td>\n",
       "      <td>0.88728</td>\n",
       "      <td>0.84540</td>\n",
       "      <td>0.88120</td>\n",
       "      <td>0.586660</td>\n",
       "      <td>0.028816</td>\n",
       "      <td>0.047210</td>\n",
       "      <td>0.010319</td>\n",
       "      <td>0.000347</td>\n",
       "      <td>0.000347</td>\n",
       "      <td>0.000347</td>\n",
       "    </tr>\n",
       "    <tr>\n",
       "      <th>236</th>\n",
       "      <td>0.008426</td>\n",
       "      <td>0.012681</td>\n",
       "      <td>0.000397</td>\n",
       "      <td>0.89372</td>\n",
       "      <td>0.84187</td>\n",
       "      <td>0.88080</td>\n",
       "      <td>0.584820</td>\n",
       "      <td>0.028873</td>\n",
       "      <td>0.047084</td>\n",
       "      <td>0.010279</td>\n",
       "      <td>0.000306</td>\n",
       "      <td>0.000306</td>\n",
       "      <td>0.000306</td>\n",
       "    </tr>\n",
       "    <tr>\n",
       "      <th>237</th>\n",
       "      <td>0.008927</td>\n",
       "      <td>0.013411</td>\n",
       "      <td>0.000540</td>\n",
       "      <td>0.89855</td>\n",
       "      <td>0.84038</td>\n",
       "      <td>0.88151</td>\n",
       "      <td>0.583710</td>\n",
       "      <td>0.028800</td>\n",
       "      <td>0.046899</td>\n",
       "      <td>0.010391</td>\n",
       "      <td>0.000265</td>\n",
       "      <td>0.000265</td>\n",
       "      <td>0.000265</td>\n",
       "    </tr>\n",
       "    <tr>\n",
       "      <th>238</th>\n",
       "      <td>0.008886</td>\n",
       "      <td>0.013743</td>\n",
       "      <td>0.000472</td>\n",
       "      <td>0.89297</td>\n",
       "      <td>0.84294</td>\n",
       "      <td>0.88048</td>\n",
       "      <td>0.585500</td>\n",
       "      <td>0.028771</td>\n",
       "      <td>0.046897</td>\n",
       "      <td>0.010437</td>\n",
       "      <td>0.000224</td>\n",
       "      <td>0.000224</td>\n",
       "      <td>0.000224</td>\n",
       "    </tr>\n",
       "    <tr>\n",
       "      <th>239</th>\n",
       "      <td>0.008754</td>\n",
       "      <td>0.013592</td>\n",
       "      <td>0.000510</td>\n",
       "      <td>0.89459</td>\n",
       "      <td>0.84398</td>\n",
       "      <td>0.88124</td>\n",
       "      <td>0.584590</td>\n",
       "      <td>0.028758</td>\n",
       "      <td>0.046841</td>\n",
       "      <td>0.010576</td>\n",
       "      <td>0.000182</td>\n",
       "      <td>0.000182</td>\n",
       "      <td>0.000182</td>\n",
       "    </tr>\n",
       "  </tbody>\n",
       "</table>\n",
       "<p>240 rows × 13 columns</p>\n",
       "</div>"
      ],
      "text/plain": [
       "                      train_box_loss  train_obj_loss  train_cls_loss  \\\n",
       "               epoch                                                   \n",
       "0                           0.088488        0.073786        0.041819   \n",
       "1                           0.069510        0.060215        0.031332   \n",
       "2                           0.068285        0.047291        0.024479   \n",
       "3                           0.062957        0.045690        0.018048   \n",
       "4                           0.056278        0.044489        0.012538   \n",
       "...                              ...             ...             ...   \n",
       "235                         0.009163        0.013687        0.000558   \n",
       "236                         0.008426        0.012681        0.000397   \n",
       "237                         0.008927        0.013411        0.000540   \n",
       "238                         0.008886        0.013743        0.000472   \n",
       "239                         0.008754        0.013592        0.000510   \n",
       "\n",
       "                      metrics_precision  metrics_recall  metrics_mAP_0_5  \\\n",
       "               epoch                                                       \n",
       "0                               0.24124         0.35700          0.22427   \n",
       "1                               0.28280         0.40615          0.24357   \n",
       "2                               0.57804         0.43923          0.42266   \n",
       "3                               0.37318         0.71259          0.54135   \n",
       "4                               0.56508         0.78258          0.73814   \n",
       "...                                 ...             ...              ...   \n",
       "235                             0.88728         0.84540          0.88120   \n",
       "236                             0.89372         0.84187          0.88080   \n",
       "237                             0.89855         0.84038          0.88151   \n",
       "238                             0.89297         0.84294          0.88048   \n",
       "239                             0.89459         0.84398          0.88124   \n",
       "\n",
       "                      metrics_mAP_0_5_0_95  val_box_loss  val_obj_loss  \\\n",
       "               epoch                                                     \n",
       "0                                 0.070107      0.060218      0.052543   \n",
       "1                                 0.084977      0.067536      0.035215   \n",
       "2                                 0.167760      0.058065      0.033982   \n",
       "3                                 0.213580      0.057538      0.032759   \n",
       "4                                 0.364550      0.044993      0.031504   \n",
       "...                                    ...           ...           ...   \n",
       "235                               0.586660      0.028816      0.047210   \n",
       "236                               0.584820      0.028873      0.047084   \n",
       "237                               0.583710      0.028800      0.046899   \n",
       "238                               0.585500      0.028771      0.046897   \n",
       "239                               0.584590      0.028758      0.046841   \n",
       "\n",
       "                      val_cls_loss     x_lr0     x_lr1     x_lr2  \n",
       "               epoch                                              \n",
       "0                         0.034701  0.070370  0.003292  0.003292  \n",
       "1                         0.027052  0.040343  0.006598  0.006598  \n",
       "2                         0.020372  0.010288  0.009877  0.009877  \n",
       "3                         0.013551  0.009876  0.009876  0.009876  \n",
       "4                         0.010565  0.009876  0.009876  0.009876  \n",
       "...                            ...       ...       ...       ...  \n",
       "235                       0.010319  0.000347  0.000347  0.000347  \n",
       "236                       0.010279  0.000306  0.000306  0.000306  \n",
       "237                       0.010391  0.000265  0.000265  0.000265  \n",
       "238                       0.010437  0.000224  0.000224  0.000224  \n",
       "239                       0.010576  0.000182  0.000182  0.000182  \n",
       "\n",
       "[240 rows x 13 columns]"
      ]
     },
     "execution_count": 169,
     "metadata": {},
     "output_type": "execute_result"
    }
   ],
   "source": [
    "df_mod_yolov5x_b8_e240"
   ]
  },
  {
   "cell_type": "markdown",
   "metadata": {},
   "source": [
    "# Analyse des résultats du train avec HIGH data aug"
   ]
  },
  {
   "cell_type": "code",
   "execution_count": 3,
   "metadata": {},
   "outputs": [],
   "source": [
    "path_result_high = \"../Models/data_aug_high/\""
   ]
  },
  {
   "cell_type": "code",
   "execution_count": 21,
   "metadata": {},
   "outputs": [
    {
     "name": "stdout",
     "output_type": "stream",
     "text": [
      "['df_mod_yolov5l_b16_e75', 'df_mod_yolov5l_b8_e75', 'df_mod_yolo5m_b16_e100', 'df_mod_yolo5m_b32_e100', 'df_mod_yolo5m_b8_e100', 'df_mod_yolo5s_b16_e150', 'df_mod_yolo5s_b32_e150', 'df_mod_yolo5s_b64_e150', 'df_mod_yolo5s_b8_e150', 'df_mod_yolov5x_b16_e50', 'df_mod_yolov5x_b8_e75']\n",
      "[21, 57, 44, 36, 53, 109, 106, 109, 97, 37, 23]\n",
      "[0.90919, 0.90852, 0.90252, 0.89981, 0.90301, 0.89729, 0.89403, 0.88717, 0.89662, 0.91069, 0.91006]\n",
      "[0.90475, 0.90731, 0.8993, 0.89682, 0.89803, 0.89517, 0.88893, 0.88467, 0.89446, 0.90596, 0.9056]\n"
     ]
    }
   ],
   "source": [
    "list_df_high = []\n",
    "list_max_high = []\n",
    "list_epoch_high = []\n",
    "list_moy5max_high = []\n",
    "\n",
    "for N1 in os.listdir(path_result_high):\n",
    "    dir_N1 = join(path_result_high, N1)\n",
    "    if os.path.isdir(dir_N1):\n",
    "        for N2 in os.listdir(dir_N1):\n",
    "            try:\n",
    "                df = pd.read_csv((join(dir_N1, N2, 'results.csv')), sep=\",\", index_col=0)\n",
    "                df.columns = df.columns.str.replace('/', '_').str.replace('.', '_').str.replace(':', '_').str.replace(' ', '')\n",
    "                globals()['df_high_%s' % N2] = df\n",
    "                list_df_high.append(f'df_{N2}')\n",
    "                val_max = df['metrics_mAP_0_5'].max()\n",
    "                list_max_high.append(val_max) \n",
    "                epoch = df['metrics_mAP_0_5'].idxmax()+1\n",
    "                list_epoch_high.append(epoch)\n",
    "                moy_5max = round(df['metrics_mAP_0_5'].sort_values(ascending=False).head(5).mean(),5)\n",
    "                # print(moy_5max)\n",
    "                list_moy5max_high.append(moy_5max)\n",
    "\n",
    "            except:\n",
    "                continue  \n",
    "\n",
    "print(list_df_high)\n",
    "print(list_epoch_high)\n",
    "print(list_max_high)\n",
    "print(list_moy5max_high)\n",
    "# print(f'df_{N2}',': metrix max =' ,val_max, \", epoch =\",f\"{df['metrics_mAP_0_5'].idxmax()+1}e\")\n"
   ]
  },
  {
   "cell_type": "code",
   "execution_count": 22,
   "metadata": {},
   "outputs": [
    {
     "name": "stdout",
     "output_type": "stream",
     "text": [
      "index 9,df_mod_yolov5x_b16_e50: val max =0.91069, moyenne des 5 max=0.90596, epoch =37e\n",
      "index 10,df_mod_yolov5x_b8_e75: val max =0.91006, moyenne des 5 max=0.9056, epoch =23e\n",
      "index 0,df_mod_yolov5l_b16_e75: val max =0.90919, moyenne des 5 max=0.90475, epoch =21e\n",
      "index 1,df_mod_yolov5l_b8_e75: val max =0.90852, moyenne des 5 max=0.90731, epoch =57e\n",
      "index 4,df_mod_yolo5m_b8_e100: val max =0.90301, moyenne des 5 max=0.89803, epoch =53e\n",
      "index 2,df_mod_yolo5m_b16_e100: val max =0.90252, moyenne des 5 max=0.8993, epoch =44e\n",
      "index 3,df_mod_yolo5m_b32_e100: val max =0.89981, moyenne des 5 max=0.89682, epoch =36e\n",
      "index 5,df_mod_yolo5s_b16_e150: val max =0.89729, moyenne des 5 max=0.89517, epoch =109e\n",
      "index 8,df_mod_yolo5s_b8_e150: val max =0.89662, moyenne des 5 max=0.89446, epoch =97e\n",
      "index 6,df_mod_yolo5s_b32_e150: val max =0.89403, moyenne des 5 max=0.88893, epoch =106e\n",
      "index 7,df_mod_yolo5s_b64_e150: val max =0.88717, moyenne des 5 max=0.88467, epoch =109e\n"
     ]
    },
    {
     "data": {
      "text/plain": [
       "array([ 9, 10,  0,  1,  4,  2,  3,  5,  8,  6,  7], dtype=int64)"
      ]
     },
     "execution_count": 22,
     "metadata": {},
     "output_type": "execute_result"
    }
   ],
   "source": [
    "sort_val_high = np.argsort(-np.array(list_max_high))\n",
    "\n",
    "for i in sort_val_high:\n",
    "    # print(i)\n",
    "    print(f\"index {i},{list_df_high[i]}: val max ={list_max_high[i]}, moyenne des 5 max={list_moy5max_high[i]}, epoch ={list_epoch_high[i]}e\")\n",
    "\n",
    "np.argsort(-np.array(list_max_high))\n"
   ]
  },
  {
   "cell_type": "code",
   "execution_count": null,
   "metadata": {},
   "outputs": [],
   "source": [
    "300 epoch data_aug low\n",
    "index 9,df_mod_yolov5x_b16_e230: val max =0.90003, moyenne des 5 max=0.89073, epoch =10e\n",
    "index 10,df_mod_yolov5x_b8_e240: val max =0.89639, moyenne des 5 max=0.88988, epoch =17e\n",
    "index 0,df_mod_yolov5l_b16_e300: val max =0.89528, moyenne des 5 max=0.89111, epoch =29e\n",
    "index 1,df_mod_yolov5l_b8_e300: val max =0.89425, moyenne des 5 max=0.89091, epoch =54e\n",
    "index 2,df_mod_yolov5m_b16_e300: val max =0.89394, moyenne des 5 max=0.89007, epoch =74e\n",
    "index 4,df_mod_yolov5m_b8_e300: val max =0.89331, moyenne des 5 max=0.8894, epoch =34e\n",
    "index 3,df_mod_yolov5m_b32_e300: val max =0.88871, moyenne des 5 max=0.88275, epoch =56e\n",
    "index 5,df_mod_yolov5s_b16_e300: val max =0.88046, moyenne des 5 max=0.87533, epoch =18e\n",
    "index 8,df_mod_yolov5s_b8_e300: val max =0.87556, moyenne des 5 max=0.8735, epoch =61e\n",
    "index 6,df_mod_yolov5s_b32_e300: val max =0.87407, moyenne des 5 max=0.87252, epoch =48e\n",
    "index 7,df_mod_yolov5s_b64_e300: val max =0.87152, moyenne des 5 max=0.86357, epoch =34e"
   ]
  },
  {
   "cell_type": "code",
   "execution_count": 26,
   "metadata": {},
   "outputs": [
    {
     "data": {
      "text/plain": [
       "               epoch\n",
       "43    0.90252\n",
       "57    0.89960\n",
       "58    0.89924\n",
       "45    0.89801\n",
       "72    0.89715\n",
       "Name: metrics_mAP_0_5, dtype: float64"
      ]
     },
     "execution_count": 26,
     "metadata": {},
     "output_type": "execute_result"
    }
   ],
   "source": [
    "df_high_mod_yolo5m_b16_e100['metrics_mAP_0_5'].sort_values(ascending=False).head(5)"
   ]
  },
  {
   "cell_type": "markdown",
   "metadata": {},
   "source": [
    "# Matrices de confusion"
   ]
  },
  {
   "cell_type": "code",
   "execution_count": 27,
   "metadata": {},
   "outputs": [],
   "source": [
    "import seaborn as sns\n",
    "import matplotlib.pyplot as plt"
   ]
  },
  {
   "cell_type": "code",
   "execution_count": 6,
   "metadata": {},
   "outputs": [
    {
     "data": {
      "text/plain": [
       "array([[50.,  0., nan],\n",
       "       [ 2., 51., nan],\n",
       "       [nan, nan, 21.],\n",
       "       [nan, nan, 63.]])"
      ]
     },
     "execution_count": 6,
     "metadata": {},
     "output_type": "execute_result"
    }
   ],
   "source": [
    "matrix_conf_ori = np.array([[50,0,np.nan],[2,51,np.nan],[np.nan,np.nan,21],[np.nan,np.nan,63]])\n",
    "matrix_conf_ori"
   ]
  },
  {
   "cell_type": "code",
   "execution_count": 37,
   "metadata": {},
   "outputs": [
    {
     "data": {
      "text/plain": [
       "<AxesSubplot:>"
      ]
     },
     "execution_count": 37,
     "metadata": {},
     "output_type": "execute_result"
    },
    {
     "data": {
      "image/png": "[encoded data removed]",
      "text/plain": [
       "<Figure size 640x480 with 2 Axes>"
      ]
     },
     "metadata": {},
     "output_type": "display_data"
    }
   ],
   "source": [
    "sns.heatmap(matrix_conf_ori, annot=True)"
   ]
  },
  {
   "cell_type": "code",
   "execution_count": 48,
   "metadata": {},
   "outputs": [
    {
     "data": {
      "text/plain": [
       "Text(0.5, 23.38159722222222, 'Réels')"
      ]
     },
     "execution_count": 48,
     "metadata": {},
     "output_type": "execute_result"
    },
    {
     "data": {
      "image/png": "[encoded data removed]",
      "text/plain": [
       "<Figure size 640x480 with 2 Axes>"
      ]
     },
     "metadata": {},
     "output_type": "display_data"
    }
   ],
   "source": [
    "#sns.heatmap(matrix_conf_ori, annot=True)\n",
    "x_axis_labels = [\"casque_NON\",\"Casque_OUI\",\"Gilet_NON\" ] # labels for x-axis\n",
    "y_axis_labels = [\"casque_NON\",\"Casque_OUI\",\"Gilet_NON\",\"Non_détecté\"] # labels for y-axis\n",
    "sns.heatmap(matrix_conf_ori, annot=True, xticklabels=x_axis_labels, yticklabels=y_axis_labels, cmap='Blues')\n",
    "plt.title('Matrice de confusion')\n",
    "plt.ylabel('Prédictions')\n",
    "plt.xlabel('Réels')\n"
   ]
  },
  {
   "cell_type": "code",
   "execution_count": 69,
   "metadata": {
    "scrolled": true
   },
   "outputs": [
    {
     "data": {
      "text/plain": [
       "Text(0.5, 23.38159722222222, 'Réels')"
      ]
     },
     "execution_count": 69,
     "metadata": {},
     "output_type": "execute_result"
    },
    {
     "data": {
      "image/png": "[encoded data removed]",
      "text/plain": [
       "<Figure size 640x480 with 2 Axes>"
      ]
     },
     "metadata": {},
     "output_type": "display_data"
    }
   ],
   "source": [
    "#sns.heatmap(matrix_conf_ori, annot=True)\n",
    "x_axis_labels = [\"no_casque\",\"casque\",\"no_gilet\" ] # labels for x-axis\n",
    "y_axis_labels = [\"no_casque\",\"casque\",\"no_gilet\",\"Non_détecté\"] # labels for y-axis\n",
    "group_names = ['TN','FP','','FN','TP','','','','TN','','','FN']\n",
    "group_counts = [\"{0:0.0f}\".format(value) for value in matrix_conf_ori.flatten()]\n",
    "labels = [f\"{v1}\\n{v2}\" for v1, v2 in zip(group_names,group_counts)]\n",
    "labels = np.asarray(labels).reshape(4,3)\n",
    "sns.heatmap(matrix_conf_ori, annot=labels, fmt=\"\", xticklabels=x_axis_labels, yticklabels=y_axis_labels, cmap='Purples')\n",
    "#sns.heatmap(matrix_conf_ori, xticklabels=x_axis_labels, yticklabels=y_axis_labels, cmap='Blues')\n",
    "plt.title('Matrice de confusion')\n",
    "plt.ylabel('Prédictions')\n",
    "plt.xlabel('Réels')\n"
   ]
  },
  {
   "cell_type": "code",
   "execution_count": 18,
   "metadata": {},
   "outputs": [
    {
     "name": "stdout",
     "output_type": "stream",
     "text": [
      "[['TN' 'FP' '']\n",
      " ['FN' 'TP' '']\n",
      " ['' '' 'TN']\n",
      " ['' '' 'FN']]\n"
     ]
    },
    {
     "data": {
      "text/plain": [
       "<AxesSubplot:>"
      ]
     },
     "execution_count": 18,
     "metadata": {},
     "output_type": "execute_result"
    },
    {
     "data": {
      "image/png": "[encoded data removed]",
      "text/plain": [
       "<Figure size 640x480 with 2 Axes>"
      ]
     },
     "metadata": {},
     "output_type": "display_data"
    }
   ],
   "source": [
    "labels = ['TN','FP','','FN','TP','','','','TN','','','FN']\n",
    "labels = np.asarray(labels).reshape(4,3)\n",
    "print(labels)\n",
    "sns.heatmap(matrix_conf_ori, annot=labels, fmt='', cmap='Blues')\n"
   ]
  },
  {
   "cell_type": "code",
   "execution_count": 24,
   "metadata": {},
   "outputs": [
    {
     "data": {
      "text/plain": [
       "<AxesSubplot:>"
      ]
     },
     "execution_count": 24,
     "metadata": {},
     "output_type": "execute_result"
    },
    {
     "data": {
      "image/png": "[encoded data removed]",
      "text/plain": [
       "<Figure size 640x480 with 2 Axes>"
      ]
     },
     "metadata": {},
     "output_type": "display_data"
    }
   ],
   "source": [
    "\n",
    "group_names = ['TN','FP','','FN','TP','','','','TN','','','FN']\n",
    "group_counts = [\"{0:0.0f}\".format(value) for value in\n",
    "                matrix_conf_ori.flatten()]\n",
    "group_percentages = [\"{0:.2%}\".format(value) for value in\n",
    "                     matrix_conf_ori.flatten()/np.sum(matrix_conf_ori)]\n",
    "labels = [f\"{v1}\\n{v2}\\n{v3}\" for v1, v2, v3 in\n",
    "          zip(group_names,group_counts,group_percentages)]\n",
    "labels = np.asarray(labels).reshape(4,3)\n",
    "sns.heatmap(matrix_conf_ori, annot=labels, fmt=\"\", cmap='Blues')"
   ]
  },
  {
   "cell_type": "markdown",
   "metadata": {},
   "source": [
    "- **Matrice de confusion sur modèle réalisé**"
   ]
  },
  {
   "cell_type": "code",
   "execution_count": 70,
   "metadata": {},
   "outputs": [
    {
     "data": {
      "text/plain": [
       "array([[33.,  1., nan, nan],\n",
       "       [ 0., 36., nan, nan],\n",
       "       [nan, nan, 24.,  1.],\n",
       "       [nan, nan,  0., 33.]])"
      ]
     },
     "execution_count": 70,
     "metadata": {},
     "output_type": "execute_result"
    }
   ],
   "source": [
    "matrix_conf_ori = np.array([[33,1,np.nan,np.nan],[0,36,np.nan,np.nan],[np.nan,np.nan,24,1],[np.nan,np.nan,0,33]])\n",
    "matrix_conf_ori"
   ]
  },
  {
   "cell_type": "code",
   "execution_count": 72,
   "metadata": {
    "scrolled": true
   },
   "outputs": [
    {
     "data": {
      "text/plain": [
       "Text(0.5, 23.38159722222222, 'Réels')"
      ]
     },
     "execution_count": 72,
     "metadata": {},
     "output_type": "execute_result"
    },
    {
     "data": {
      "image/png": "[encoded data removed]",
      "text/plain": [
       "<Figure size 640x480 with 2 Axes>"
      ]
     },
     "metadata": {},
     "output_type": "display_data"
    }
   ],
   "source": [
    "#sns.heatmap(matrix_conf_ori, annot=True)\n",
    "x_axis_labels = [\"no_casque\",\"casque\",\"no_gilet\",'gilet' ] # labels for x-axis\n",
    "y_axis_labels = [\"no_casque\",\"casque\",\"no_gilet\",\"gilet\"] # labels for y-axis\n",
    "group_names = ['TN','FP','','','FN','TP','','','','','TN','FP','','','FN','TP']\n",
    "group_counts = [\"{0:0.0f}\".format(value) for value in matrix_conf_ori.flatten()]\n",
    "labels = [f\"{v1}\\n{v2}\" for v1, v2 in zip(group_names,group_counts)]\n",
    "labels = np.asarray(labels).reshape(4,4)\n",
    "sns.heatmap(matrix_conf_ori, annot=labels, fmt=\"\", xticklabels=x_axis_labels, yticklabels=y_axis_labels, cmap='Purples')\n",
    "#sns.heatmap(matrix_conf_ori, xticklabels=x_axis_labels, yticklabels=y_axis_labels, cmap='Blues')\n",
    "plt.title('Matrice de confusion')\n",
    "plt.ylabel('Prédictions')\n",
    "plt.xlabel('Réels')\n"
   ]
  },
  {
   "cell_type": "markdown",
   "metadata": {},
   "source": [
    "# Comparaison des modèles"
   ]
  },
  {
   "cell_type": "code",
   "execution_count": null,
   "metadata": {},
   "outputs": [],
   "source": []
  },
  {
   "cell_type": "code",
   "execution_count": 74,
   "metadata": {},
   "outputs": [],
   "source": [
    "index = ['v5s_b8','v5s_b16','v5s_b32','v5s_b64',\n",
    "         'v5m_b8','v5m_b16','v5m_b32',\n",
    "         'v5l_b8','v5l_b16',\n",
    "         'v5x_b8','v5x_b16']\n",
    "columns = ['All','casque','no_casque','gilet','no_gilet']\n",
    "data = np.array([[ 0.875,  0.826,  0.922,  0.973, 0.778], #v5s_b8\n",
    "                 [ 0.859,  0.793,  0.894,  0.947, 0.672], #v5s_b16\n",
    "                 [ 0.882,  0.827,  0.92,  0.97, 0.811],   #v5s_b32\n",
    "                 [ 0.856,  0.784,  0.907,  0.961, 0.774], #v5s_b64\n",
    "                 [ 0.,  0.,  0.,  0., 0.], #v5m_b8\n",
    "                 [ 0.,  0.,  0.,  0., 0.], #v5m_b16\n",
    "                 [ 0.,  0.,  0.,  0., 0.], #v5m_b32\n",
    "                 [ 0.,  0.,  0.,  0., 0.], #v5l_b8\n",
    "                 [ 0.,  0.,  0.,  0., 0.], #v5l_b16\n",
    "                 [ 0.88,  0.871,  0.918,  0.956, 0.777], #v5x_b8\n",
    "                 [ 0.875,  0.849,  0.935,  0.945, 0.772], #v5x_b16\n",
    "\n",
    "                ])"
   ]
  },
  {
   "cell_type": "code",
   "execution_count": 76,
   "metadata": {},
   "outputs": [
    {
     "data": {
      "text/html": [
       "<div>\n",
       "<style scoped>\n",
       "    .dataframe tbody tr th:only-of-type {\n",
       "        vertical-align: middle;\n",
       "    }\n",
       "\n",
       "    .dataframe tbody tr th {\n",
       "        vertical-align: top;\n",
       "    }\n",
       "\n",
       "    .dataframe thead th {\n",
       "        text-align: right;\n",
       "    }\n",
       "</style>\n",
       "<table border=\"1\" class=\"dataframe\">\n",
       "  <thead>\n",
       "    <tr style=\"text-align: right;\">\n",
       "      <th></th>\n",
       "      <th>All</th>\n",
       "      <th>casque</th>\n",
       "      <th>no_casque</th>\n",
       "      <th>gilet</th>\n",
       "      <th>no_gilet</th>\n",
       "    </tr>\n",
       "  </thead>\n",
       "  <tbody>\n",
       "    <tr>\n",
       "      <th>v5s_b8</th>\n",
       "      <td>0.875</td>\n",
       "      <td>0.826</td>\n",
       "      <td>0.922</td>\n",
       "      <td>0.973</td>\n",
       "      <td>0.778</td>\n",
       "    </tr>\n",
       "    <tr>\n",
       "      <th>v5s_b16</th>\n",
       "      <td>0.859</td>\n",
       "      <td>0.793</td>\n",
       "      <td>0.894</td>\n",
       "      <td>0.947</td>\n",
       "      <td>0.672</td>\n",
       "    </tr>\n",
       "    <tr>\n",
       "      <th>v5s_b32</th>\n",
       "      <td>0.882</td>\n",
       "      <td>0.827</td>\n",
       "      <td>0.920</td>\n",
       "      <td>0.970</td>\n",
       "      <td>0.811</td>\n",
       "    </tr>\n",
       "    <tr>\n",
       "      <th>v5s_b64</th>\n",
       "      <td>0.856</td>\n",
       "      <td>0.784</td>\n",
       "      <td>0.907</td>\n",
       "      <td>0.961</td>\n",
       "      <td>0.774</td>\n",
       "    </tr>\n",
       "  </tbody>\n",
       "</table>\n",
       "</div>"
      ],
      "text/plain": [
       "           All  casque  no_casque  gilet  no_gilet\n",
       "v5s_b8   0.875   0.826      0.922  0.973     0.778\n",
       "v5s_b16  0.859   0.793      0.894  0.947     0.672\n",
       "v5s_b32  0.882   0.827      0.920  0.970     0.811\n",
       "v5s_b64  0.856   0.784      0.907  0.961     0.774"
      ]
     },
     "execution_count": 76,
     "metadata": {},
     "output_type": "execute_result"
    }
   ],
   "source": [
    "df_mod = pd.DataFrame(data=data,index=index,columns=columns)\n",
    "df_mod"
   ]
  },
  {
   "cell_type": "code",
   "execution_count": 79,
   "metadata": {},
   "outputs": [
    {
     "data": {
      "text/plain": [
       "<AxesSubplot:>"
      ]
     },
     "execution_count": 79,
     "metadata": {},
     "output_type": "execute_result"
    },
    {
     "data": {
      "image/png": "[encoded data removed]",
      "text/plain": [
       "<Figure size 640x480 with 1 Axes>"
      ]
     },
     "metadata": {},
     "output_type": "display_data"
    }
   ],
   "source": [
    "df_mod.plot()"
   ]
  },
  {
   "cell_type": "code",
   "execution_count": null,
   "metadata": {},
   "outputs": [],
   "source": []
  },
  {
   "cell_type": "code",
   "execution_count": 155,
   "metadata": {},
   "outputs": [
    {
     "data": {
      "text/html": [
       "<div>\n",
       "<style scoped>\n",
       "    .dataframe tbody tr th:only-of-type {\n",
       "        vertical-align: middle;\n",
       "    }\n",
       "\n",
       "    .dataframe tbody tr th {\n",
       "        vertical-align: top;\n",
       "    }\n",
       "\n",
       "    .dataframe thead th {\n",
       "        text-align: right;\n",
       "    }\n",
       "</style>\n",
       "<table border=\"1\" class=\"dataframe\">\n",
       "  <thead>\n",
       "    <tr style=\"text-align: right;\">\n",
       "      <th></th>\n",
       "      <th>train mAP50</th>\n",
       "      <th>val mAP50</th>\n",
       "      <th>casque</th>\n",
       "      <th>no_casque</th>\n",
       "      <th>gilet</th>\n",
       "      <th>no_gilet</th>\n",
       "    </tr>\n",
       "  </thead>\n",
       "  <tbody>\n",
       "    <tr>\n",
       "      <th>v5s_b8</th>\n",
       "      <td>0.87556</td>\n",
       "      <td>0.875</td>\n",
       "      <td>0.826</td>\n",
       "      <td>0.922</td>\n",
       "      <td>0.973</td>\n",
       "      <td>0.778</td>\n",
       "    </tr>\n",
       "    <tr>\n",
       "      <th>v5s_b16</th>\n",
       "      <td>0.88046</td>\n",
       "      <td>0.859</td>\n",
       "      <td>0.793</td>\n",
       "      <td>0.894</td>\n",
       "      <td>0.947</td>\n",
       "      <td>0.672</td>\n",
       "    </tr>\n",
       "    <tr>\n",
       "      <th>v5s_b32</th>\n",
       "      <td>0.87407</td>\n",
       "      <td>0.882</td>\n",
       "      <td>0.827</td>\n",
       "      <td>0.920</td>\n",
       "      <td>0.970</td>\n",
       "      <td>0.811</td>\n",
       "    </tr>\n",
       "    <tr>\n",
       "      <th>v5s_b64</th>\n",
       "      <td>0.87152</td>\n",
       "      <td>0.856</td>\n",
       "      <td>0.784</td>\n",
       "      <td>0.907</td>\n",
       "      <td>0.961</td>\n",
       "      <td>0.774</td>\n",
       "    </tr>\n",
       "    <tr>\n",
       "      <th>v5m_b8</th>\n",
       "      <td>0.89331</td>\n",
       "      <td>0.880</td>\n",
       "      <td>0.839</td>\n",
       "      <td>0.916</td>\n",
       "      <td>0.965</td>\n",
       "      <td>0.799</td>\n",
       "    </tr>\n",
       "    <tr>\n",
       "      <th>v5m_b16</th>\n",
       "      <td>0.89394</td>\n",
       "      <td>0.874</td>\n",
       "      <td>0.838</td>\n",
       "      <td>0.914</td>\n",
       "      <td>0.971</td>\n",
       "      <td>0.773</td>\n",
       "    </tr>\n",
       "    <tr>\n",
       "      <th>v5m_b32</th>\n",
       "      <td>0.88871</td>\n",
       "      <td>0.869</td>\n",
       "      <td>0.839</td>\n",
       "      <td>0.906</td>\n",
       "      <td>0.964</td>\n",
       "      <td>0.766</td>\n",
       "    </tr>\n",
       "    <tr>\n",
       "      <th>v5l_b8</th>\n",
       "      <td>0.89425</td>\n",
       "      <td>0.876</td>\n",
       "      <td>0.840</td>\n",
       "      <td>0.924</td>\n",
       "      <td>0.965</td>\n",
       "      <td>0.775</td>\n",
       "    </tr>\n",
       "    <tr>\n",
       "      <th>v5l_b16</th>\n",
       "      <td>0.89528</td>\n",
       "      <td>0.877</td>\n",
       "      <td>0.838</td>\n",
       "      <td>0.930</td>\n",
       "      <td>0.968</td>\n",
       "      <td>0.771</td>\n",
       "    </tr>\n",
       "    <tr>\n",
       "      <th>v5x_b8</th>\n",
       "      <td>0.89639</td>\n",
       "      <td>0.880</td>\n",
       "      <td>0.871</td>\n",
       "      <td>0.918</td>\n",
       "      <td>0.956</td>\n",
       "      <td>0.777</td>\n",
       "    </tr>\n",
       "    <tr>\n",
       "      <th>v5x_b16</th>\n",
       "      <td>0.90003</td>\n",
       "      <td>0.875</td>\n",
       "      <td>0.849</td>\n",
       "      <td>0.935</td>\n",
       "      <td>0.945</td>\n",
       "      <td>0.772</td>\n",
       "    </tr>\n",
       "  </tbody>\n",
       "</table>\n",
       "</div>"
      ],
      "text/plain": [
       "         train mAP50  val mAP50  casque  no_casque  gilet  no_gilet\n",
       "v5s_b8       0.87556      0.875   0.826      0.922  0.973     0.778\n",
       "v5s_b16      0.88046      0.859   0.793      0.894  0.947     0.672\n",
       "v5s_b32      0.87407      0.882   0.827      0.920  0.970     0.811\n",
       "v5s_b64      0.87152      0.856   0.784      0.907  0.961     0.774\n",
       "v5m_b8       0.89331      0.880   0.839      0.916  0.965     0.799\n",
       "v5m_b16      0.89394      0.874   0.838      0.914  0.971     0.773\n",
       "v5m_b32      0.88871      0.869   0.839      0.906  0.964     0.766\n",
       "v5l_b8       0.89425      0.876   0.840      0.924  0.965     0.775\n",
       "v5l_b16      0.89528      0.877   0.838      0.930  0.968     0.771\n",
       "v5x_b8       0.89639      0.880   0.871      0.918  0.956     0.777\n",
       "v5x_b16      0.90003      0.875   0.849      0.935  0.945     0.772"
      ]
     },
     "execution_count": 155,
     "metadata": {},
     "output_type": "execute_result"
    }
   ],
   "source": [
    "index = ['v5s_b8','v5s_b16','v5s_b32','v5s_b64',\n",
    "         'v5m_b8','v5m_b16','v5m_b32',\n",
    "         'v5l_b8','v5l_b16',\n",
    "         'v5x_b8','v5x_b16']\n",
    "columns = ['train mAP50','val mAP50','casque','no_casque','gilet','no_gilet',]\n",
    "data = np.array([[0.87556, 0.875,  0.826,  0.922,  0.973, 0.778, ], #v5s_b8\n",
    "                 [0.88046, 0.859,  0.793,  0.894,  0.947, 0.672, ], #v5s_b16\n",
    "                 [0.87407, 0.882,  0.827,  0.92,  0.97, 0.811, ],   #v5s_b32\n",
    "                 [0.87152, 0.856,  0.784,  0.907,  0.961, 0.774, ], #v5s_b64\n",
    "                 [0.89331, 0.88,  0.839,  0.916,  0.965, 0.799, ], #v5m_b8\n",
    "                 [0.89394, 0.874,  0.838,  0.914,  0.971, 0.773,], #v5m_b16\n",
    "                 [0.88871, 0.869,  0.839,  0.906,  0.964, 0.766,], #v5m_b32\n",
    "                 [0.89425, 0.876,  0.84,  0.924,  0.965, 0.775, ], #v5l_b8\n",
    "                 [0.89528, 0.877,  0.838,  0.93,  0.968, 0.771, ], #v5l_b16\n",
    "                 [0.89639, 0.88,  0.871,  0.918,  0.956, 0.777, ], #v5x_b8\n",
    "                 [0.90003, 0.875,  0.849,  0.935,  0.945, 0.772,], #v5x_b16\n",
    "                ])\n",
    "df_mod = pd.DataFrame(data=data,index=index,columns=columns)\n",
    "df_mod"
   ]
  },
  {
   "cell_type": "code",
   "execution_count": 159,
   "metadata": {},
   "outputs": [
    {
     "data": {
      "text/plain": [
       "([<matplotlib.axis.XTick at 0x16187c0d190>,\n",
       "  <matplotlib.axis.XTick at 0x16187c0d640>,\n",
       "  <matplotlib.axis.XTick at 0x16187d98070>,\n",
       "  <matplotlib.axis.XTick at 0x16188eee670>,\n",
       "  <matplotlib.axis.XTick at 0x161890bf460>,\n",
       "  <matplotlib.axis.XTick at 0x161890bf3a0>,\n",
       "  <matplotlib.axis.XTick at 0x16188f4a3d0>,\n",
       "  <matplotlib.axis.XTick at 0x16188f4a640>,\n",
       "  <matplotlib.axis.XTick at 0x1618d96ddf0>,\n",
       "  <matplotlib.axis.XTick at 0x16187cd0670>,\n",
       "  <matplotlib.axis.XTick at 0x16187d1c430>],\n",
       " [Text(0, 0, 'v5s_b8'),\n",
       "  Text(1, 0, 'v5s_b16'),\n",
       "  Text(2, 0, 'v5s_b32'),\n",
       "  Text(3, 0, 'v5s_b64'),\n",
       "  Text(4, 0, 'v5m_b8'),\n",
       "  Text(5, 0, 'v5m_b16'),\n",
       "  Text(6, 0, 'v5m_b32'),\n",
       "  Text(7, 0, 'v5l_b8'),\n",
       "  Text(8, 0, 'v5l_b16'),\n",
       "  Text(9, 0, 'v5x_b8'),\n",
       "  Text(10, 0, 'v5x_b16')])"
      ]
     },
     "execution_count": 159,
     "metadata": {},
     "output_type": "execute_result"
    },
    {
     "data": {
      "image/png": "[encoded data removed]",
      "text/plain": [
       "<Figure size 1500x600 with 1 Axes>"
      ]
     },
     "metadata": {},
     "output_type": "display_data"
    }
   ],
   "source": [
    "ax = df_mod.plot(figsize=(15, 6))\n",
    "ax.grid('off', which='major', axis='x' )\n",
    "ax.grid('off', which='major', axis='y' )\n",
    "ax.set_xlabel(\"modèles YOLOv5_Batch\")\n",
    "plt.xticks(range(0,len(df_mod.index)), df_mod.index)"
   ]
  },
  {
   "cell_type": "markdown",
   "metadata": {},
   "source": [
    "- Comparatifs modèls"
   ]
  },
  {
   "cell_type": "code",
   "execution_count": 180,
   "metadata": {},
   "outputs": [
    {
     "name": "stdout",
     "output_type": "stream",
     "text": [
      "yolov5m_b16_e300_hyp_med: val max =0.89814, moyenne des 5 max=0.8938, epoch =44e\n"
     ]
    }
   ],
   "source": [
    "dir1 = \"../Models/yolov5m_b16_e300_hyp_med/\"\n",
    "df = pd.read_csv((join(dir1, 'results.csv')), sep=\",\", index_col=0)\n",
    "df.columns = df.columns.str.replace('/', '_').str.replace('.', '_').str.replace(':', '_').str.replace(' ', '')\n",
    "val_max = df['metrics_mAP_0_5'].max()\n",
    "epoch = df['metrics_mAP_0_5'].idxmax()+1\n",
    "moy_5max = round(df['metrics_mAP_0_5'].sort_values(ascending=False).head(5).mean(),5)\n",
    "print(f\"yolov5m_b16_e300_hyp_med: val max ={val_max}, moyenne des 5 max={moy_5max}, epoch ={epoch}e\")\n"
   ]
  },
  {
   "cell_type": "code",
   "execution_count": 200,
   "metadata": {},
   "outputs": [
    {
     "name": "stdout",
     "output_type": "stream",
     "text": [
      "yolov5m_b16_e300_hyp_med: val max =0.89814, moyenne des 5 max=0.8938, epoch =44e\n"
     ]
    }
   ],
   "source": [
    "dir1 = \"../Models/yolov5m_b16_e300_hyp_high/\"\n",
    "df = pd.read_csv((join(dir1, 'results.csv')), sep=\",\", index_col=0)\n",
    "df.columns = df.columns.str.replace('/', '_').str.replace('.', '_').str.replace(':', '_').str.replace(' ', '')\n",
    "val_max = df['metrics_mAP_0_5'].max()\n",
    "epoch = df['metrics_mAP_0_5'].idxmax()+1\n",
    "moy_5max = round(df['metrics_mAP_0_5'].sort_values(ascending=False).head(5).mean(),5)\n",
    "print(f\"yolov5m_b16_e300_hyp_high: val max ={val_max}, moyenne des 5 max={moy_5max}, epoch ={epoch}e\")\n"
   ]
  },
  {
   "cell_type": "code",
   "execution_count": 181,
   "metadata": {},
   "outputs": [
    {
     "name": "stdout",
     "output_type": "stream",
     "text": [
      "yolov5m_b16_e300_hyp_med: val max =0.90252, moyenne des 5 max=0.8993, epoch =44e\n"
     ]
    }
   ],
   "source": [
    "dir1 = \"../Models/data_aug_high/yolov5m/mod_yolo5m_b16_e100/\"\n",
    "df = pd.read_csv((join(dir1, 'results.csv')), sep=\",\", index_col=0)\n",
    "df.columns = df.columns.str.replace('/', '_').str.replace('.', '_').str.replace(':', '_').str.replace(' ', '')\n",
    "val_max = df['metrics_mAP_0_5'].max()\n",
    "epoch = df['metrics_mAP_0_5'].idxmax()+1\n",
    "moy_5max = round(df['metrics_mAP_0_5'].sort_values(ascending=False).head(5).mean(),5)\n",
    "print(f\"yolov5m_b16_e300_hyp_med: val max ={val_max}, moyenne des 5 max={moy_5max}, epoch ={epoch}e\")\n"
   ]
  },
  {
   "cell_type": "code",
   "execution_count": 192,
   "metadata": {},
   "outputs": [
    {
     "data": {
      "text/html": [
       "<div>\n",
       "<style scoped>\n",
       "    .dataframe tbody tr th:only-of-type {\n",
       "        vertical-align: middle;\n",
       "    }\n",
       "\n",
       "    .dataframe tbody tr th {\n",
       "        vertical-align: top;\n",
       "    }\n",
       "\n",
       "    .dataframe thead th {\n",
       "        text-align: right;\n",
       "    }\n",
       "</style>\n",
       "<table border=\"1\" class=\"dataframe\">\n",
       "  <thead>\n",
       "    <tr style=\"text-align: right;\">\n",
       "      <th></th>\n",
       "      <th>mAP50_train</th>\n",
       "      <th>mAP50_val</th>\n",
       "      <th>precision_val</th>\n",
       "      <th>recall_val</th>\n",
       "    </tr>\n",
       "  </thead>\n",
       "  <tbody>\n",
       "    <tr>\n",
       "      <th>v5s_b8</th>\n",
       "      <td>0.87556</td>\n",
       "      <td>0.875</td>\n",
       "      <td>0.877</td>\n",
       "      <td>0.831</td>\n",
       "    </tr>\n",
       "    <tr>\n",
       "      <th>v5s_b16</th>\n",
       "      <td>0.88046</td>\n",
       "      <td>0.859</td>\n",
       "      <td>0.872</td>\n",
       "      <td>0.826</td>\n",
       "    </tr>\n",
       "    <tr>\n",
       "      <th>v5s_b32</th>\n",
       "      <td>0.87407</td>\n",
       "      <td>0.882</td>\n",
       "      <td>0.893</td>\n",
       "      <td>0.828</td>\n",
       "    </tr>\n",
       "    <tr>\n",
       "      <th>v5s_b64</th>\n",
       "      <td>0.87152</td>\n",
       "      <td>0.856</td>\n",
       "      <td>0.889</td>\n",
       "      <td>0.809</td>\n",
       "    </tr>\n",
       "    <tr>\n",
       "      <th>v5m_b8</th>\n",
       "      <td>0.89331</td>\n",
       "      <td>0.880</td>\n",
       "      <td>0.884</td>\n",
       "      <td>0.850</td>\n",
       "    </tr>\n",
       "    <tr>\n",
       "      <th>v5m_b16</th>\n",
       "      <td>0.89394</td>\n",
       "      <td>0.874</td>\n",
       "      <td>0.904</td>\n",
       "      <td>0.817</td>\n",
       "    </tr>\n",
       "    <tr>\n",
       "      <th>v5m_b32</th>\n",
       "      <td>0.88871</td>\n",
       "      <td>0.869</td>\n",
       "      <td>0.895</td>\n",
       "      <td>0.818</td>\n",
       "    </tr>\n",
       "    <tr>\n",
       "      <th>v5l_b8</th>\n",
       "      <td>0.89425</td>\n",
       "      <td>0.876</td>\n",
       "      <td>0.889</td>\n",
       "      <td>0.841</td>\n",
       "    </tr>\n",
       "    <tr>\n",
       "      <th>v5l_b16</th>\n",
       "      <td>0.89528</td>\n",
       "      <td>0.877</td>\n",
       "      <td>0.883</td>\n",
       "      <td>0.844</td>\n",
       "    </tr>\n",
       "    <tr>\n",
       "      <th>v5x_b8</th>\n",
       "      <td>0.89639</td>\n",
       "      <td>0.880</td>\n",
       "      <td>0.880</td>\n",
       "      <td>0.848</td>\n",
       "    </tr>\n",
       "    <tr>\n",
       "      <th>v5x_b16</th>\n",
       "      <td>0.90003</td>\n",
       "      <td>0.875</td>\n",
       "      <td>0.830</td>\n",
       "      <td>0.859</td>\n",
       "    </tr>\n",
       "  </tbody>\n",
       "</table>\n",
       "</div>"
      ],
      "text/plain": [
       "         mAP50_train  mAP50_val  precision_val  recall_val\n",
       "v5s_b8       0.87556      0.875          0.877       0.831\n",
       "v5s_b16      0.88046      0.859          0.872       0.826\n",
       "v5s_b32      0.87407      0.882          0.893       0.828\n",
       "v5s_b64      0.87152      0.856          0.889       0.809\n",
       "v5m_b8       0.89331      0.880          0.884       0.850\n",
       "v5m_b16      0.89394      0.874          0.904       0.817\n",
       "v5m_b32      0.88871      0.869          0.895       0.818\n",
       "v5l_b8       0.89425      0.876          0.889       0.841\n",
       "v5l_b16      0.89528      0.877          0.883       0.844\n",
       "v5x_b8       0.89639      0.880          0.880       0.848\n",
       "v5x_b16      0.90003      0.875          0.830       0.859"
      ]
     },
     "execution_count": 192,
     "metadata": {},
     "output_type": "execute_result"
    }
   ],
   "source": [
    "index = ['v5s_b8','v5s_b16','v5s_b32','v5s_b64','v5m_b8',\n",
    "         'v5m_b16','v5m_b32',\n",
    "         'v5l_b8','v5l_b16','v5x_b8','v5x_b16']\n",
    "columns = ['mAP50_train','mAP50_val','precision_val', 'recall_val']\n",
    "data = np.array([[0.87556, 0.875, 0.877, 0.831], #v5s_b8\n",
    "                 [0.88046, 0.859, 0.872, 0.826], #v5s_b16\n",
    "                 [0.87407, 0.882, 0.893, 0.828],   #v5s_b32\n",
    "                 [0.87152, 0.856, 0.889, 0.809], #v5s_b64\n",
    "                 [0.89331, 0.88,  0.884,  0.85], #v5m_b8\n",
    "                 [0.89394, 0.874, 0.904, 0.817], #v5m_b16\n",
    "                 [0.88871, 0.869, 0.895, 0.818], #v5m_b32\n",
    "                 [0.89425, 0.876, 0.889, 0.841], #v5l_b8\n",
    "                 [0.89528, 0.877, 0.883, 0.844], #v5l_b16\n",
    "                 [0.89639, 0.88,  0.88,  0.848], #v5x_b8\n",
    "                 [0.90003, 0.875, 0.83,  0.859], #v5x_b16\n",
    "                ])\n",
    "df_mod = pd.DataFrame(data=data,index=index,columns=columns)\n",
    "df_mod"
   ]
  },
  {
   "cell_type": "code",
   "execution_count": 198,
   "metadata": {},
   "outputs": [
    {
     "data": {
      "text/plain": [
       "([<matplotlib.axis.XTick at 0x1618c37a2e0>,\n",
       "  <matplotlib.axis.XTick at 0x1618c37a2b0>,\n",
       "  <matplotlib.axis.XTick at 0x1618c3ad340>,\n",
       "  <matplotlib.axis.XTick at 0x1618c3bd6a0>,\n",
       "  <matplotlib.axis.XTick at 0x1618c3bddf0>,\n",
       "  <matplotlib.axis.XTick at 0x1618c3c5580>,\n",
       "  <matplotlib.axis.XTick at 0x1618c3bde50>,\n",
       "  <matplotlib.axis.XTick at 0x1618c3c5bb0>,\n",
       "  <matplotlib.axis.XTick at 0x1618957b970>,\n",
       "  <matplotlib.axis.XTick at 0x1618c3a1700>,\n",
       "  <matplotlib.axis.XTick at 0x1618c3cda30>],\n",
       " [Text(0, 0, 'v5s_b8'),\n",
       "  Text(1, 0, 'v5s_b16'),\n",
       "  Text(2, 0, 'v5s_b32'),\n",
       "  Text(3, 0, 'v5s_b64'),\n",
       "  Text(4, 0, 'v5m_b8'),\n",
       "  Text(5, 0, 'v5m_b16'),\n",
       "  Text(6, 0, 'v5m_b32'),\n",
       "  Text(7, 0, 'v5l_b8'),\n",
       "  Text(8, 0, 'v5l_b16'),\n",
       "  Text(9, 0, 'v5x_b8'),\n",
       "  Text(10, 0, 'v5x_b16')])"
      ]
     },
     "execution_count": 198,
     "metadata": {},
     "output_type": "execute_result"
    },
    {
     "data": {
      "image/png": "[encoded data removed]",
      "text/plain": [
       "<Figure size 1300x600 with 1 Axes>"
      ]
     },
     "metadata": {},
     "output_type": "display_data"
    }
   ],
   "source": [
    "ax = df_mod.plot(figsize=(13, 6), ylim=(0.75, 0.95))\n",
    "ax.grid('off', which='major', axis='x' )\n",
    "ax.grid('off', which='major', axis='y' )\n",
    "ax.set_xlabel(\"modèles YOLOv5_Batch\")\n",
    "plt.xticks(range(0,len(df_mod.index)), df_mod.index)"
   ]
  },
  {
   "cell_type": "code",
   "execution_count": 201,
   "metadata": {},
   "outputs": [
    {
     "data": {
      "text/html": [
       "<div>\n",
       "<style scoped>\n",
       "    .dataframe tbody tr th:only-of-type {\n",
       "        vertical-align: middle;\n",
       "    }\n",
       "\n",
       "    .dataframe tbody tr th {\n",
       "        vertical-align: top;\n",
       "    }\n",
       "\n",
       "    .dataframe thead th {\n",
       "        text-align: right;\n",
       "    }\n",
       "</style>\n",
       "<table border=\"1\" class=\"dataframe\">\n",
       "  <thead>\n",
       "    <tr style=\"text-align: right;\">\n",
       "      <th></th>\n",
       "      <th>mAP50_train</th>\n",
       "      <th>mAP50_val</th>\n",
       "      <th>precision_val</th>\n",
       "      <th>recall_val</th>\n",
       "    </tr>\n",
       "  </thead>\n",
       "  <tbody>\n",
       "    <tr>\n",
       "      <th>v5m_b16_hyp=low</th>\n",
       "      <td>0.89394</td>\n",
       "      <td>0.874</td>\n",
       "      <td>0.904</td>\n",
       "      <td>0.817</td>\n",
       "    </tr>\n",
       "    <tr>\n",
       "      <th>v5m_b16_hyp=med</th>\n",
       "      <td>0.89814</td>\n",
       "      <td>0.892</td>\n",
       "      <td>0.913</td>\n",
       "      <td>0.830</td>\n",
       "    </tr>\n",
       "    <tr>\n",
       "      <th>v5m_b16_hyp=high</th>\n",
       "      <td>0.89814</td>\n",
       "      <td>0.892</td>\n",
       "      <td>0.913</td>\n",
       "      <td>0.830</td>\n",
       "    </tr>\n",
       "  </tbody>\n",
       "</table>\n",
       "</div>"
      ],
      "text/plain": [
       "                  mAP50_train  mAP50_val  precision_val  recall_val\n",
       "v5m_b16_hyp=low       0.89394      0.874          0.904       0.817\n",
       "v5m_b16_hyp=med       0.89814      0.892          0.913       0.830\n",
       "v5m_b16_hyp=high      0.89814      0.892          0.913       0.830"
      ]
     },
     "execution_count": 201,
     "metadata": {},
     "output_type": "execute_result"
    }
   ],
   "source": [
    "index = ['v5m_b16_hyp=low','v5m_b16_hyp=med','v5m_b16_hyp=high']\n",
    "columns = ['mAP50_train','mAP50_val','precision_val', 'recall_val']\n",
    "data = np.array([[0.89394, 0.874, 0.904, 0.817], #v5m_b16_hyp=low\n",
    "                 [0.89814, 0.892, 0.913,  0.83], #v5m_b16_hyp=med\n",
    "                 [0.89814, 0.892, 0.913, 0.83], #v5m_b16_hyp=hyp\n",
    "                ])\n",
    "df_mod = pd.DataFrame(data=data,index=index,columns=columns)\n",
    "df_mod"
   ]
  },
  {
   "cell_type": "code",
   "execution_count": 203,
   "metadata": {},
   "outputs": [
    {
     "data": {
      "text/plain": [
       "([<matplotlib.axis.XTick at 0x16190934730>,\n",
       "  <matplotlib.axis.XTick at 0x16190934700>,\n",
       "  <matplotlib.axis.XTick at 0x16190968070>],\n",
       " [Text(0, 0, 'v5m_b16_hyp=low'),\n",
       "  Text(1, 0, 'v5m_b16_hyp=med'),\n",
       "  Text(2, 0, 'v5m_b16_hyp=high')])"
      ]
     },
     "execution_count": 203,
     "metadata": {},
     "output_type": "execute_result"
    },
    {
     "data": {
      "image/png": "[encoded data removed]",
      "text/plain": [
       "<Figure size 1000x600 with 1 Axes>"
      ]
     },
     "metadata": {},
     "output_type": "display_data"
    }
   ],
   "source": [
    "ax = df_mod.plot(figsize=(10, 6), ylim=(0.7, 0.95))\n",
    "ax.grid('off', which='major', axis='x' )\n",
    "ax.grid('off', which='major', axis='y' )\n",
    "ax.set_xlabel(\"modèles YOLOv5_Batch\")\n",
    "plt.xticks(range(0,len(df_mod.index)), df_mod.index)"
   ]
  },
  {
   "cell_type": "code",
   "execution_count": null,
   "metadata": {},
   "outputs": [],
   "source": []
  },
  {
   "cell_type": "code",
   "execution_count": null,
   "metadata": {},
   "outputs": [],
   "source": []
  },
  {
   "cell_type": "code",
   "execution_count": null,
   "metadata": {},
   "outputs": [],
   "source": []
  },
  {
   "cell_type": "code",
   "execution_count": null,
   "metadata": {},
   "outputs": [],
   "source": []
  },
  {
   "cell_type": "code",
   "execution_count": null,
   "metadata": {},
   "outputs": [],
   "source": []
  },
  {
   "cell_type": "code",
   "execution_count": 130,
   "metadata": {},
   "outputs": [
    {
     "name": "stdout",
     "output_type": "stream",
     "text": [
      "Index(['train/box_loss', 'train/obj_loss', 'train/cls_loss',\n",
      "       'metrics/precision', 'metrics/recall', 'metrics/mAP_0.5',\n",
      "       'metrics/mAP_0.5:0.95', 'val/box_loss', 'val/obj_loss', 'val/cls_loss',\n",
      "       'x/lr0', 'x/lr1', 'x/lr2'],\n",
      "      dtype='object')\n"
     ]
    }
   ],
   "source": [
    "print(df_mod_yolov5s_b8_e300.columns)"
   ]
  },
  {
   "cell_type": "code",
   "execution_count": 132,
   "metadata": {},
   "outputs": [
    {
     "data": {
      "text/plain": [
       "               epoch\n",
       "0      0.12386\n",
       "1      0.23374\n",
       "2      0.23677\n",
       "3      0.38331\n",
       "4      0.55422\n",
       "        ...   \n",
       "251    0.85349\n",
       "252    0.85600\n",
       "253    0.85653\n",
       "254    0.85241\n",
       "255    0.85021\n",
       "Name: metrics/mAP_0.5, Length: 256, dtype: float64"
      ]
     },
     "execution_count": 132,
     "metadata": {},
     "output_type": "execute_result"
    }
   ],
   "source": [
    "df_mod_yolov5s_b8_e300['metrics/mAP_0.5']"
   ]
  },
  {
   "cell_type": "code",
   "execution_count": 101,
   "metadata": {},
   "outputs": [
    {
     "ename": "KeyError",
     "evalue": "'epoch'",
     "output_type": "error",
     "traceback": [
      "\u001b[1;31m---------------------------------------------------------------------------\u001b[0m",
      "\u001b[1;31mKeyError\u001b[0m                                  Traceback (most recent call last)",
      "File \u001b[1;32mc:\\Users\\Utilisateur\\anaconda3\\envs\\cas-prat\\lib\\site-packages\\pandas\\core\\indexes\\base.py:3803\u001b[0m, in \u001b[0;36mIndex.get_loc\u001b[1;34m(self, key, method, tolerance)\u001b[0m\n\u001b[0;32m   3802\u001b[0m \u001b[39mtry\u001b[39;00m:\n\u001b[1;32m-> 3803\u001b[0m     \u001b[39mreturn\u001b[39;00m \u001b[39mself\u001b[39;49m\u001b[39m.\u001b[39;49m_engine\u001b[39m.\u001b[39;49mget_loc(casted_key)\n\u001b[0;32m   3804\u001b[0m \u001b[39mexcept\u001b[39;00m \u001b[39mKeyError\u001b[39;00m \u001b[39mas\u001b[39;00m err:\n",
      "File \u001b[1;32mc:\\Users\\Utilisateur\\anaconda3\\envs\\cas-prat\\lib\\site-packages\\pandas\\_libs\\index.pyx:138\u001b[0m, in \u001b[0;36mpandas._libs.index.IndexEngine.get_loc\u001b[1;34m()\u001b[0m\n",
      "File \u001b[1;32mc:\\Users\\Utilisateur\\anaconda3\\envs\\cas-prat\\lib\\site-packages\\pandas\\_libs\\index.pyx:165\u001b[0m, in \u001b[0;36mpandas._libs.index.IndexEngine.get_loc\u001b[1;34m()\u001b[0m\n",
      "File \u001b[1;32mpandas\\_libs\\hashtable_class_helper.pxi:5745\u001b[0m, in \u001b[0;36mpandas._libs.hashtable.PyObjectHashTable.get_item\u001b[1;34m()\u001b[0m\n",
      "File \u001b[1;32mpandas\\_libs\\hashtable_class_helper.pxi:5753\u001b[0m, in \u001b[0;36mpandas._libs.hashtable.PyObjectHashTable.get_item\u001b[1;34m()\u001b[0m\n",
      "\u001b[1;31mKeyError\u001b[0m: 'epoch'",
      "\nThe above exception was the direct cause of the following exception:\n",
      "\u001b[1;31mKeyError\u001b[0m                                  Traceback (most recent call last)",
      "Cell \u001b[1;32mIn [101], line 1\u001b[0m\n\u001b[1;32m----> 1\u001b[0m df_mod_yolov5l_b16_e300[\u001b[39m'\u001b[39;49m\u001b[39mepoch\u001b[39;49m\u001b[39m'\u001b[39;49m]\n",
      "File \u001b[1;32mc:\\Users\\Utilisateur\\anaconda3\\envs\\cas-prat\\lib\\site-packages\\pandas\\core\\frame.py:3804\u001b[0m, in \u001b[0;36mDataFrame.__getitem__\u001b[1;34m(self, key)\u001b[0m\n\u001b[0;32m   3802\u001b[0m \u001b[39mif\u001b[39;00m \u001b[39mself\u001b[39m\u001b[39m.\u001b[39mcolumns\u001b[39m.\u001b[39mnlevels \u001b[39m>\u001b[39m \u001b[39m1\u001b[39m:\n\u001b[0;32m   3803\u001b[0m     \u001b[39mreturn\u001b[39;00m \u001b[39mself\u001b[39m\u001b[39m.\u001b[39m_getitem_multilevel(key)\n\u001b[1;32m-> 3804\u001b[0m indexer \u001b[39m=\u001b[39m \u001b[39mself\u001b[39;49m\u001b[39m.\u001b[39;49mcolumns\u001b[39m.\u001b[39;49mget_loc(key)\n\u001b[0;32m   3805\u001b[0m \u001b[39mif\u001b[39;00m is_integer(indexer):\n\u001b[0;32m   3806\u001b[0m     indexer \u001b[39m=\u001b[39m [indexer]\n",
      "File \u001b[1;32mc:\\Users\\Utilisateur\\anaconda3\\envs\\cas-prat\\lib\\site-packages\\pandas\\core\\indexes\\base.py:3805\u001b[0m, in \u001b[0;36mIndex.get_loc\u001b[1;34m(self, key, method, tolerance)\u001b[0m\n\u001b[0;32m   3803\u001b[0m     \u001b[39mreturn\u001b[39;00m \u001b[39mself\u001b[39m\u001b[39m.\u001b[39m_engine\u001b[39m.\u001b[39mget_loc(casted_key)\n\u001b[0;32m   3804\u001b[0m \u001b[39mexcept\u001b[39;00m \u001b[39mKeyError\u001b[39;00m \u001b[39mas\u001b[39;00m err:\n\u001b[1;32m-> 3805\u001b[0m     \u001b[39mraise\u001b[39;00m \u001b[39mKeyError\u001b[39;00m(key) \u001b[39mfrom\u001b[39;00m \u001b[39merr\u001b[39;00m\n\u001b[0;32m   3806\u001b[0m \u001b[39mexcept\u001b[39;00m \u001b[39mTypeError\u001b[39;00m:\n\u001b[0;32m   3807\u001b[0m     \u001b[39m# If we have a listlike key, _check_indexing_error will raise\u001b[39;00m\n\u001b[0;32m   3808\u001b[0m     \u001b[39m#  InvalidIndexError. Otherwise we fall through and re-raise\u001b[39;00m\n\u001b[0;32m   3809\u001b[0m     \u001b[39m#  the TypeError.\u001b[39;00m\n\u001b[0;32m   3810\u001b[0m     \u001b[39mself\u001b[39m\u001b[39m.\u001b[39m_check_indexing_error(key)\n",
      "\u001b[1;31mKeyError\u001b[0m: 'epoch'"
     ]
    }
   ],
   "source": [
    "df_mod_yolov5l_b16_e300['epoch']"
   ]
  },
  {
   "cell_type": "code",
   "execution_count": null,
   "metadata": {},
   "outputs": [],
   "source": []
  },
  {
   "cell_type": "code",
   "execution_count": 36,
   "metadata": {},
   "outputs": [],
   "source": [
    "for k in range(5):\n",
    "    exec(f'cat_{k} = k*2')\n"
   ]
  },
  {
   "cell_type": "code",
   "execution_count": 42,
   "metadata": {},
   "outputs": [
    {
     "data": {
      "text/plain": [
       "8"
      ]
     },
     "execution_count": 42,
     "metadata": {},
     "output_type": "execute_result"
    }
   ],
   "source": [
    "cat_4"
   ]
  },
  {
   "cell_type": "code",
   "execution_count": 41,
   "metadata": {},
   "outputs": [],
   "source": [
    "for x in range(0, 5):\n",
    "    globals()['string%s' % x] = 'Hello'\n"
   ]
  },
  {
   "cell_type": "code",
   "execution_count": 43,
   "metadata": {},
   "outputs": [
    {
     "data": {
      "text/plain": [
       "'Hello'"
      ]
     },
     "execution_count": 43,
     "metadata": {},
     "output_type": "execute_result"
    }
   ],
   "source": [
    "string3"
   ]
  },
  {
   "cell_type": "code",
   "execution_count": null,
   "metadata": {},
   "outputs": [],
   "source": [
    "df_txt = pd.read_csv((file), sep=\" \", header = None)\n",
    "dir_N0 = os.listdir(folder_dataset)\n",
    "\n",
    "# Boucle 1 sur dossier train\n",
    "for n, N1 in tqdm(enumerate(dir_N0), total=len(dir_N0)):\n",
    "    folder_N1 = join(folder_dataset,N1)\n",
    "\n",
    "    # Boucle 2 sur sous_dossier 1, si le sous-dossier est un dossier sinon erreur \n",
    "    if os.path.isdir(folder_N1):\n",
    "        \n",
    "        for n, N2 in enumerate(os.listdir(folder_N1)):                     \n",
    "            if N2 == ss_folder2[0]:\n",
    "                for n, file in enumerate(os.listdir(join(folder_N1,N2))):\n",
    "                    file_dir = join(folder_N1,N2,file)\n",
    "                    if file.endswith('.ply'): \n",
    "                        matrix = read_extract_data_plyfile(file_dir)\n",
    "                        data_dynamic = np.concatenate((data_dynamic,matrix), axis=0)   \n",
    "                    else:\n",
    "                        continue"
   ]
  },
  {
   "cell_type": "markdown",
   "metadata": {},
   "source": [
    "## Attribution couleurs"
   ]
  },
  {
   "cell_type": "code",
   "execution_count": 45,
   "metadata": {},
   "outputs": [
    {
     "data": {
      "text/plain": [
       "(array([[184.85941784,  57.72402859, 155.29193107],\n",
       "        [229.22199702, 123.85838608,  15.92496989]]),\n",
       " 2,\n",
       " array([229.22199702, 123.85838608,  15.92496989]))"
      ]
     },
     "execution_count": 45,
     "metadata": {},
     "output_type": "execute_result"
    }
   ],
   "source": [
    "colors = np.random.uniform(0, 255, size=(2, 3))\n",
    "color = colors[int(1.0) % len(colors)]\n",
    "colors, len(colors), color\n"
   ]
  },
  {
   "cell_type": "code",
   "execution_count": 61,
   "metadata": {},
   "outputs": [
    {
     "data": {
      "text/plain": [
       "(1, 0.75)"
      ]
     },
     "execution_count": 61,
     "metadata": {},
     "output_type": "execute_result"
    }
   ],
   "source": [
    "v = [0,1,2,3]\n",
    "v[3 % 2], 3/4"
   ]
  },
  {
   "cell_type": "code",
   "execution_count": 64,
   "metadata": {},
   "outputs": [
    {
     "data": {
      "text/plain": [
       "(0, 1, 0, 1)"
      ]
     },
     "execution_count": 64,
     "metadata": {},
     "output_type": "execute_result"
    }
   ],
   "source": [
    "0%2, 1%2, 2%2, 3%2"
   ]
  },
  {
   "cell_type": "code",
   "execution_count": null,
   "metadata": {},
   "outputs": [],
   "source": [
    "label = [0,1,2,3]\n",
    "colors = np.array([[0.0, 255.0,0.0],[0.0,0.0,255.0]])\n",
    "color0 = colors[int(0) % len(colors)]\n",
    "color1 = colors[int(1) % len(colors)]\n",
    "color2 = colors[int(2) % len(colors)]\n",
    "color3 = colors[int(3) % len(colors)]"
   ]
  },
  {
   "cell_type": "markdown",
   "metadata": {},
   "source": [
    "# Définition des couleurs"
   ]
  },
  {
   "cell_type": "code",
   "execution_count": 27,
   "metadata": {},
   "outputs": [
    {
     "data": {
      "text/plain": [
       "array([[137.34001403, 105.76119699, 243.99876711],\n",
       "       [ 55.20827412,  93.69990461,  59.05684094]])"
      ]
     },
     "execution_count": 27,
     "metadata": {},
     "output_type": "execute_result"
    }
   ],
   "source": [
    "colors = np.random.uniform(0, 255, size=(2, 3))\n",
    "colors"
   ]
  },
  {
   "cell_type": "code",
   "execution_count": 69,
   "metadata": {},
   "outputs": [
    {
     "data": {
      "text/plain": [
       "array([[  0., 255.,   0.],\n",
       "       [  0.,   0., 255.]])"
      ]
     },
     "execution_count": 69,
     "metadata": {},
     "output_type": "execute_result"
    }
   ],
   "source": [
    "# colors fixées à ROUGE pour NON ou VERT pour OK en BGR (diff de RGB)\n",
    "colors = np.array([[0.0, 255.0,0.0],[0.0,0.0,255.0]])\n",
    "colors"
   ]
  },
  {
   "cell_type": "code",
   "execution_count": null,
   "metadata": {},
   "outputs": [],
   "source": [
    "# 0 pour Casque_OK\n",
    "# 1 pour Gilet\n",
    "# 2 pour Casque_NO\n",
    "# 3 pour Gilet_NO\n"
   ]
  },
  {
   "cell_type": "markdown",
   "metadata": {},
   "source": [
    "# Analyse du code d'origine Streamlit App.py"
   ]
  },
  {
   "cell_type": "code",
   "execution_count": 33,
   "metadata": {},
   "outputs": [
    {
     "data": {
      "text/plain": [
       "array([[214.53458,  96.48192, 409.68161, 377.52423,   0.93022,   2.     ],\n",
       "       [ 11.51065, 319.39523, 605.375  , 480.     ,   0.78443,   3.     ]])"
      ]
     },
     "execution_count": 33,
     "metadata": {},
     "output_type": "execute_result"
    }
   ],
   "source": [
    "# results image 1/1: 480x640 1 no_casque, 1 no_gilet\n",
    "\n",
    "results_pred =  np.array([[214.53458,  96.48192, 409.68161, 377.52423,   0.93022,   2.00000],\n",
    "        [ 11.51065, 319.39523, 605.37500, 480.00000,   0.78443,   3.00000]])\n",
    "results_pred\n",
    "# => tenseur composé de 2 prédictions : x, y, w, h, résultat, résultat label"
   ]
  },
  {
   "cell_type": "code",
   "execution_count": 47,
   "metadata": {},
   "outputs": [
    {
     "name": "stdout",
     "output_type": "stream",
     "text": [
      "0\n",
      "prédiction = 0.93022\n",
      "box =  [214  96 409 377]\n",
      "class_ids = 2\n",
      "1\n",
      "prédiction = 0.78443\n",
      "box =  [ 11 319 605 480]\n",
      "class_ids = 3\n"
     ]
    }
   ],
   "source": [
    "boxes = []\n",
    "class_ids = []\n",
    "\n",
    "for i in range(0,len(results_pred)):\n",
    "    print(i)\n",
    "    print(\"prédiction =\",results_pred[i,4])\n",
    "    if results_pred[i,4] > 0.7 :\n",
    "        x = int(results_pred[i,0])\n",
    "        y = int(results_pred[i,1])\n",
    "        w = int(results_pred[i,2])\n",
    "        h = int(results_pred[i,3])\n",
    "        box = np.array([x, y, w, h])\n",
    "        boxes.append(box)\n",
    "        class_id = int(results_pred[i,5])\n",
    "        class_ids.append(class_id)\n",
    "        print(\"box = \", box)\n",
    "        print(\"class_ids =\",class_id)\n"
   ]
  },
  {
   "cell_type": "code",
   "execution_count": 54,
   "metadata": {},
   "outputs": [
    {
     "name": "stdout",
     "output_type": "stream",
     "text": [
      "[214  96 409 377] 2\n",
      "[  0.   0. 255.] 2 2\n",
      "[ 11 319 605 480] 3\n",
      "[  0.   0. 255.] 3 2\n"
     ]
    }
   ],
   "source": [
    "import cv2\n",
    "\n",
    "for box, classid in zip(boxes,class_ids):\n",
    "    print(box, classid)\n",
    "    if classid == 0 or classid==1:\n",
    "        color = colors[0]\n",
    "    else:\n",
    "        color = colors[1]\n",
    "        print(color, int(classid), len(colors))\n",
    "    cv2.rectangle(frm, box, color, 2)\n",
    "    cv2.rectangle(frm, (box[0], box[1] - 20), (box[0] + box[2], box[1]), color, -1)\n",
    "    cv2.putText(frm, Label[classid], (box[0], box[1] - 5), font, .5, (0,0,0))"
   ]
  },
  {
   "cell_type": "code",
   "execution_count": 57,
   "metadata": {},
   "outputs": [],
   "source": [
    "import streamlit as st\n",
    "\n",
    "c1, c2 = st.columns(2)"
   ]
  },
  {
   "cell_type": "code",
   "execution_count": 58,
   "metadata": {},
   "outputs": [
    {
     "data": {
      "text/plain": [
       "DeltaGenerator(_root_container=0, _provided_cursor=None, _parent=None, _block_type=None, _form_data=None)"
      ]
     },
     "execution_count": 58,
     "metadata": {},
     "output_type": "execute_result"
    }
   ],
   "source": [
    "c1"
   ]
  },
  {
   "cell_type": "code",
   "execution_count": 59,
   "metadata": {},
   "outputs": [
    {
     "data": {
      "text/plain": [
       "DeltaGenerator(_root_container=0, _provided_cursor=None, _parent=None, _block_type=None, _form_data=None)"
      ]
     },
     "execution_count": 59,
     "metadata": {},
     "output_type": "execute_result"
    }
   ],
   "source": [
    "c2"
   ]
  },
  {
   "cell_type": "code",
   "execution_count": 60,
   "metadata": {},
   "outputs": [
    {
     "data": {
      "text/plain": [
       "[DeltaGenerator(_root_container=0, _provided_cursor=None, _parent=None, _block_type=None, _form_data=None)]"
      ]
     },
     "execution_count": 60,
     "metadata": {},
     "output_type": "execute_result"
    }
   ],
   "source": [
    "st.columns(1)"
   ]
  },
  {
   "cell_type": "code",
   "execution_count": 65,
   "metadata": {},
   "outputs": [
    {
     "data": {
      "text/plain": [
       "DeltaGenerator(_root_container=0, _provided_cursor=None, _parent=None, _block_type=None, _form_data=None)"
      ]
     },
     "execution_count": 65,
     "metadata": {},
     "output_type": "execute_result"
    }
   ],
   "source": [
    "st.empty()"
   ]
  },
  {
   "cell_type": "code",
   "execution_count": 66,
   "metadata": {},
   "outputs": [
    {
     "data": {
      "text/plain": [
       "DeltaGenerator(_root_container=0, _provided_cursor=None, _parent=None, _block_type=None, _form_data=None)"
      ]
     },
     "execution_count": 66,
     "metadata": {},
     "output_type": "execute_result"
    }
   ],
   "source": [
    "st.empty()"
   ]
  },
  {
   "cell_type": "code",
   "execution_count": 67,
   "metadata": {},
   "outputs": [],
   "source": [
    "import time\n",
    "\n",
    "time.sleep(0.10)"
   ]
  },
  {
   "cell_type": "code",
   "execution_count": 11,
   "metadata": {},
   "outputs": [
    {
     "name": "stdout",
     "output_type": "stream",
     "text": [
      "None\n",
      "no\n",
      "0\n",
      "oui\n",
      "1\n",
      "no\n",
      "2\n",
      "no\n",
      "3\n",
      "no\n",
      "4\n",
      "no\n"
     ]
    }
   ],
   "source": [
    "resultat = [ None, 0, 1, 2, 3, 4]\n",
    "\n",
    "for resultat in resultat:\n",
    "    print(resultat)\n",
    "    if resultat == 0:\n",
    "        print('oui')\n",
    "        # if resultat == 1:\n",
    "        #     print('yes')\n",
    "    else:\n",
    "        print('no')"
   ]
  },
  {
   "cell_type": "code",
   "execution_count": 18,
   "metadata": {},
   "outputs": [
    {
     "name": "stdout",
     "output_type": "stream",
     "text": [
      "oui\n"
     ]
    }
   ],
   "source": [
    "resultat = [ None, 0, 1, 2, 3, 4]\n",
    "\n",
    "\n",
    "if 0 in resultat and 1 in resultat:\n",
    "    print('oui')\n",
    "    # if resultat == 1:\n",
    "    #     print('yes')\n",
    "else:\n",
    "    print('no')"
   ]
  },
  {
   "cell_type": "code",
   "execution_count": 12,
   "metadata": {},
   "outputs": [
    {
     "data": {
      "text/plain": [
       "[]"
      ]
     },
     "execution_count": 12,
     "metadata": {},
     "output_type": "execute_result"
    }
   ],
   "source": [
    "x= []\n",
    "x"
   ]
  },
  {
   "cell_type": "code",
   "execution_count": 7,
   "metadata": {},
   "outputs": [
    {
     "name": "stdout",
     "output_type": "stream",
     "text": [
      "Hello from AskPython\n",
      "Hello\n",
      "Hello boy!\n",
      "Hi\n",
      "['Hello from AskPython', 'Hello', 'Hello boy!']\n"
     ]
    }
   ],
   "source": [
    "ls = ['Hello from AskPython', 'Hello', 'Hello boy!', 'Hi']\n",
    " \n",
    "matches = []\n",
    " \n",
    "for match in ls:\n",
    "    print(match)\n",
    "    if \"Hello\" in match:\n",
    "        matches.append(match)\n",
    " \n",
    "print(matches)"
   ]
  },
  {
   "cell_type": "code",
   "execution_count": 14,
   "metadata": {},
   "outputs": [
    {
     "name": "stdout",
     "output_type": "stream",
     "text": [
      "Found the element\n"
     ]
    }
   ],
   "source": [
    "list = ['Adam', 'Dean', 'Harvey', 'Mick', 'John']\n",
    "\n",
    "for name in list:     \n",
    "    if name == 'Adam' :         \n",
    "        print (\"Found the element\")"
   ]
  },
  {
   "cell_type": "markdown",
   "metadata": {},
   "source": [
    "# Méthode de class"
   ]
  },
  {
   "cell_type": "code",
   "execution_count": 24,
   "metadata": {},
   "outputs": [
    {
     "data": {
      "text/plain": [
       "<__main__.VoitureSport at 0x7fc39dbefe20>"
      ]
     },
     "execution_count": 24,
     "metadata": {},
     "output_type": "execute_result"
    }
   ],
   "source": [
    "class VoitureSport():\n",
    "    def __init__(self):\n",
    "        self.nom = \"Ferrari\"\n",
    "VoitureSport()"
   ]
  },
  {
   "cell_type": "code",
   "execution_count": 21,
   "metadata": {},
   "outputs": [
    {
     "data": {
      "text/plain": [
       "<__main__.VoitureSport2 at 0x7fc39d0d5e50>"
      ]
     },
     "execution_count": 21,
     "metadata": {},
     "output_type": "execute_result"
    }
   ],
   "source": [
    "class VoitureSport2():\n",
    "    def __init__(self):\n",
    "        self.nom = False\n",
    "VoitureSport2()"
   ]
  },
  {
   "cell_type": "code",
   "execution_count": 26,
   "metadata": {},
   "outputs": [
    {
     "name": "stdout",
     "output_type": "stream",
     "text": [
      "None None\n"
     ]
    }
   ],
   "source": [
    "p1 = VoitureSport().__doc__\n",
    "p2 = VoitureSport2().__doc__\n",
    "print(p1, p2)"
   ]
  },
  {
   "cell_type": "code",
   "execution_count": 27,
   "metadata": {},
   "outputs": [
    {
     "name": "stdout",
     "output_type": "stream",
     "text": [
      "<bound method VoitureSport.__init__ of <__main__.VoitureSport object at 0x7fc39dbeffd0>> <bound method VoitureSport2.__init__ of <__main__.VoitureSport2 object at 0x7fc39dbefca0>>\n"
     ]
    }
   ],
   "source": [
    "r1 = VoitureSport().__init__\n",
    "r2 = VoitureSport2().__init__\n",
    "print(r1, r2)"
   ]
  },
  {
   "cell_type": "code",
   "execution_count": 32,
   "metadata": {},
   "outputs": [],
   "source": [
    "a = VoitureSport2()\n",
    "a.x = None\n",
    "a.x"
   ]
  }
 ],
 "metadata": {
  "kernelspec": {
   "display_name": "Python 3 (ipykernel)",
   "language": "python",
   "name": "python3"
  },
  "language_info": {
   "codemirror_mode": {
    "name": "ipython",
    "version": 3
   },
   "file_extension": ".py",
   "mimetype": "text/x-python",
   "name": "python",
   "nbconvert_exporter": "python",
   "pygments_lexer": "ipython3",
   "version": "3.9.13"
  },
  "vscode": {
   "interpreter": {
    "hash": "670148614c935554c878b5abc07f7ac9519c14de779c19ac8be6635f8139269d"
   }
  }
 },
 "nbformat": 4,
 "nbformat_minor": 2
}
